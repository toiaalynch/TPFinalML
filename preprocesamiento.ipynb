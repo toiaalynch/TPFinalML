{
 "cells": [
  {
   "cell_type": "markdown",
   "metadata": {},
   "source": [
    "# Preprocesamiento datos Alquiler AMBA"
   ]
  },
  {
   "cell_type": "markdown",
   "metadata": {},
   "source": [
    "### Importar librerías"
   ]
  },
  {
   "cell_type": "code",
   "execution_count": 72,
   "metadata": {},
   "outputs": [],
   "source": [
    "import numpy as np\n",
    "import pandas as pd"
   ]
  },
  {
   "cell_type": "markdown",
   "metadata": {},
   "source": [
    "### Cargar el archivo a procesar"
   ]
  },
  {
   "cell_type": "code",
   "execution_count": 73,
   "metadata": {},
   "outputs": [
    {
     "data": {
      "text/html": [
       "<div>\n",
       "<style scoped>\n",
       "    .dataframe tbody tr th:only-of-type {\n",
       "        vertical-align: middle;\n",
       "    }\n",
       "\n",
       "    .dataframe tbody tr th {\n",
       "        vertical-align: top;\n",
       "    }\n",
       "\n",
       "    .dataframe thead th {\n",
       "        text-align: right;\n",
       "    }\n",
       "</style>\n",
       "<table border=\"1\" class=\"dataframe\">\n",
       "  <thead>\n",
       "    <tr style=\"text-align: right;\">\n",
       "      <th></th>\n",
       "      <th>id_grid</th>\n",
       "      <th>MesListing</th>\n",
       "      <th>TIPOPROPIEDAD</th>\n",
       "      <th>STotalM2</th>\n",
       "      <th>SConstrM2</th>\n",
       "      <th>Dormitorios</th>\n",
       "      <th>Banos</th>\n",
       "      <th>Ambientes</th>\n",
       "      <th>SitioOrigen</th>\n",
       "      <th>Amoblado</th>\n",
       "      <th>...</th>\n",
       "      <th>CanchaTennis</th>\n",
       "      <th>AreaCine</th>\n",
       "      <th>ITE_ADD_CITY_NAME</th>\n",
       "      <th>ITE_ADD_STATE_NAME</th>\n",
       "      <th>ITE_ADD_NEIGHBORHOOD_NAME</th>\n",
       "      <th>ITE_TIPO_PROD</th>\n",
       "      <th>LONGITUDE</th>\n",
       "      <th>LATITUDE</th>\n",
       "      <th>precio_pesos_constantes</th>\n",
       "      <th>year</th>\n",
       "    </tr>\n",
       "  </thead>\n",
       "  <tbody>\n",
       "    <tr>\n",
       "      <th>0</th>\n",
       "      <td>59362</td>\n",
       "      <td>2022-08-01</td>\n",
       "      <td>Departamento</td>\n",
       "      <td>39.0</td>\n",
       "      <td>36.0</td>\n",
       "      <td>1</td>\n",
       "      <td>1</td>\n",
       "      <td>2</td>\n",
       "      <td>NaN</td>\n",
       "      <td>0.0</td>\n",
       "      <td>...</td>\n",
       "      <td>0.0</td>\n",
       "      <td>NaN</td>\n",
       "      <td>Caseros</td>\n",
       "      <td>Bs.As. G.B.A. Oeste</td>\n",
       "      <td>Caseros</td>\n",
       "      <td>N</td>\n",
       "      <td>-58.566145</td>\n",
       "      <td>-34.599299</td>\n",
       "      <td>6.279294e+03</td>\n",
       "      <td>2022</td>\n",
       "    </tr>\n",
       "    <tr>\n",
       "      <th>1</th>\n",
       "      <td>68287</td>\n",
       "      <td>2021-04-01</td>\n",
       "      <td>Departamento</td>\n",
       "      <td>47.0</td>\n",
       "      <td>40.0</td>\n",
       "      <td>1</td>\n",
       "      <td>1</td>\n",
       "      <td>2</td>\n",
       "      <td>0</td>\n",
       "      <td>No</td>\n",
       "      <td>...</td>\n",
       "      <td>0</td>\n",
       "      <td>0</td>\n",
       "      <td>Capital Federal</td>\n",
       "      <td>Capital Federal</td>\n",
       "      <td>Núñez</td>\n",
       "      <td>U</td>\n",
       "      <td>-58.473708</td>\n",
       "      <td>-34.551759</td>\n",
       "      <td>1.092339e+04</td>\n",
       "      <td>2021</td>\n",
       "    </tr>\n",
       "    <tr>\n",
       "      <th>2</th>\n",
       "      <td>59774</td>\n",
       "      <td>2021-09-01</td>\n",
       "      <td>Departamento</td>\n",
       "      <td>128.0</td>\n",
       "      <td>63.0</td>\n",
       "      <td>1</td>\n",
       "      <td>1</td>\n",
       "      <td>3</td>\n",
       "      <td>0</td>\n",
       "      <td>No</td>\n",
       "      <td>...</td>\n",
       "      <td>0</td>\n",
       "      <td>0</td>\n",
       "      <td>Capital Federal</td>\n",
       "      <td>Capital Federal</td>\n",
       "      <td>NaN</td>\n",
       "      <td>U</td>\n",
       "      <td>-58.385136</td>\n",
       "      <td>-34.599685</td>\n",
       "      <td>1.081992e+04</td>\n",
       "      <td>2021</td>\n",
       "    </tr>\n",
       "    <tr>\n",
       "      <th>3</th>\n",
       "      <td>62402</td>\n",
       "      <td>2022-11-01</td>\n",
       "      <td>Departamento</td>\n",
       "      <td>436.0</td>\n",
       "      <td>436.0</td>\n",
       "      <td>2</td>\n",
       "      <td>3</td>\n",
       "      <td>8</td>\n",
       "      <td>NaN</td>\n",
       "      <td>NaN</td>\n",
       "      <td>...</td>\n",
       "      <td>0.0</td>\n",
       "      <td>NaN</td>\n",
       "      <td>Capital Federal</td>\n",
       "      <td>Capital Federal</td>\n",
       "      <td>Recoleta</td>\n",
       "      <td>U</td>\n",
       "      <td>-58.393617</td>\n",
       "      <td>-34.585162</td>\n",
       "      <td>1.230069e+05</td>\n",
       "      <td>2022</td>\n",
       "    </tr>\n",
       "    <tr>\n",
       "      <th>4</th>\n",
       "      <td>57804</td>\n",
       "      <td>2021-04-01</td>\n",
       "      <td>Departamento</td>\n",
       "      <td>300.0</td>\n",
       "      <td>300.0</td>\n",
       "      <td>2</td>\n",
       "      <td>4</td>\n",
       "      <td>6</td>\n",
       "      <td>0</td>\n",
       "      <td>No</td>\n",
       "      <td>...</td>\n",
       "      <td>No</td>\n",
       "      <td>0</td>\n",
       "      <td>Capital Federal</td>\n",
       "      <td>Capital Federal</td>\n",
       "      <td>Monserrat</td>\n",
       "      <td>U</td>\n",
       "      <td>-58.376592</td>\n",
       "      <td>-34.610603</td>\n",
       "      <td>7.714647e+06</td>\n",
       "      <td>2021</td>\n",
       "    </tr>\n",
       "  </tbody>\n",
       "</table>\n",
       "<p>5 rows × 45 columns</p>\n",
       "</div>"
      ],
      "text/plain": [
       "   id_grid  MesListing TIPOPROPIEDAD  STotalM2  SConstrM2  Dormitorios  Banos  \\\n",
       "0    59362  2022-08-01  Departamento      39.0       36.0            1      1   \n",
       "1    68287  2021-04-01  Departamento      47.0       40.0            1      1   \n",
       "2    59774  2021-09-01  Departamento     128.0       63.0            1      1   \n",
       "3    62402  2022-11-01  Departamento     436.0      436.0            2      3   \n",
       "4    57804  2021-04-01  Departamento     300.0      300.0            2      4   \n",
       "\n",
       "   Ambientes SitioOrigen Amoblado  ... CanchaTennis AreaCine  \\\n",
       "0          2         NaN      0.0  ...          0.0      NaN   \n",
       "1          2           0       No  ...            0        0   \n",
       "2          3           0       No  ...            0        0   \n",
       "3          8         NaN      NaN  ...          0.0      NaN   \n",
       "4          6           0       No  ...           No        0   \n",
       "\n",
       "  ITE_ADD_CITY_NAME   ITE_ADD_STATE_NAME ITE_ADD_NEIGHBORHOOD_NAME  \\\n",
       "0           Caseros  Bs.As. G.B.A. Oeste                   Caseros   \n",
       "1   Capital Federal      Capital Federal                     Núñez   \n",
       "2   Capital Federal      Capital Federal                       NaN   \n",
       "3   Capital Federal      Capital Federal                  Recoleta   \n",
       "4   Capital Federal      Capital Federal                 Monserrat   \n",
       "\n",
       "  ITE_TIPO_PROD  LONGITUDE   LATITUDE precio_pesos_constantes  year  \n",
       "0             N -58.566145 -34.599299            6.279294e+03  2022  \n",
       "1             U -58.473708 -34.551759            1.092339e+04  2021  \n",
       "2             U -58.385136 -34.599685            1.081992e+04  2021  \n",
       "3             U -58.393617 -34.585162            1.230069e+05  2022  \n",
       "4             U -58.376592 -34.610603            7.714647e+06  2021  \n",
       "\n",
       "[5 rows x 45 columns]"
      ]
     },
     "execution_count": 73,
     "metadata": {},
     "output_type": "execute_result"
    }
   ],
   "source": [
    "df_original = pd.read_csv('alquiler_AMBA_dev.csv', low_memory=False)\n",
    "df_original.head()"
   ]
  },
  {
   "cell_type": "code",
   "execution_count": 74,
   "metadata": {},
   "outputs": [
    {
     "name": "stdout",
     "output_type": "stream",
     "text": [
      "El dataset tiene 278725 filas y 45 columnas.\n"
     ]
    },
    {
     "data": {
      "text/html": [
       "<div>\n",
       "<style scoped>\n",
       "    .dataframe tbody tr th:only-of-type {\n",
       "        vertical-align: middle;\n",
       "    }\n",
       "\n",
       "    .dataframe tbody tr th {\n",
       "        vertical-align: top;\n",
       "    }\n",
       "\n",
       "    .dataframe thead th {\n",
       "        text-align: right;\n",
       "    }\n",
       "</style>\n",
       "<table border=\"1\" class=\"dataframe\">\n",
       "  <thead>\n",
       "    <tr style=\"text-align: right;\">\n",
       "      <th></th>\n",
       "      <th>id_grid</th>\n",
       "      <th>MesListing</th>\n",
       "      <th>TIPOPROPIEDAD</th>\n",
       "      <th>STotalM2</th>\n",
       "      <th>SConstrM2</th>\n",
       "      <th>Dormitorios</th>\n",
       "      <th>Banos</th>\n",
       "      <th>Ambientes</th>\n",
       "      <th>SitioOrigen</th>\n",
       "      <th>Amoblado</th>\n",
       "      <th>...</th>\n",
       "      <th>CanchaTennis</th>\n",
       "      <th>AreaCine</th>\n",
       "      <th>ITE_ADD_CITY_NAME</th>\n",
       "      <th>ITE_ADD_STATE_NAME</th>\n",
       "      <th>ITE_ADD_NEIGHBORHOOD_NAME</th>\n",
       "      <th>ITE_TIPO_PROD</th>\n",
       "      <th>LONGITUDE</th>\n",
       "      <th>LATITUDE</th>\n",
       "      <th>precio_pesos_constantes</th>\n",
       "      <th>year</th>\n",
       "    </tr>\n",
       "  </thead>\n",
       "  <tbody>\n",
       "    <tr>\n",
       "      <th>0</th>\n",
       "      <td>59362</td>\n",
       "      <td>2022-08-01</td>\n",
       "      <td>Departamento</td>\n",
       "      <td>39.0</td>\n",
       "      <td>36.0</td>\n",
       "      <td>1</td>\n",
       "      <td>1</td>\n",
       "      <td>2</td>\n",
       "      <td>NaN</td>\n",
       "      <td>0.0</td>\n",
       "      <td>...</td>\n",
       "      <td>0.0</td>\n",
       "      <td>NaN</td>\n",
       "      <td>Caseros</td>\n",
       "      <td>Bs.As. G.B.A. Oeste</td>\n",
       "      <td>Caseros</td>\n",
       "      <td>N</td>\n",
       "      <td>-58.566145</td>\n",
       "      <td>-34.599299</td>\n",
       "      <td>6.279294e+03</td>\n",
       "      <td>2022</td>\n",
       "    </tr>\n",
       "    <tr>\n",
       "      <th>1</th>\n",
       "      <td>68287</td>\n",
       "      <td>2021-04-01</td>\n",
       "      <td>Departamento</td>\n",
       "      <td>47.0</td>\n",
       "      <td>40.0</td>\n",
       "      <td>1</td>\n",
       "      <td>1</td>\n",
       "      <td>2</td>\n",
       "      <td>0</td>\n",
       "      <td>No</td>\n",
       "      <td>...</td>\n",
       "      <td>0</td>\n",
       "      <td>0</td>\n",
       "      <td>Capital Federal</td>\n",
       "      <td>Capital Federal</td>\n",
       "      <td>Núñez</td>\n",
       "      <td>U</td>\n",
       "      <td>-58.473708</td>\n",
       "      <td>-34.551759</td>\n",
       "      <td>1.092339e+04</td>\n",
       "      <td>2021</td>\n",
       "    </tr>\n",
       "    <tr>\n",
       "      <th>2</th>\n",
       "      <td>59774</td>\n",
       "      <td>2021-09-01</td>\n",
       "      <td>Departamento</td>\n",
       "      <td>128.0</td>\n",
       "      <td>63.0</td>\n",
       "      <td>1</td>\n",
       "      <td>1</td>\n",
       "      <td>3</td>\n",
       "      <td>0</td>\n",
       "      <td>No</td>\n",
       "      <td>...</td>\n",
       "      <td>0</td>\n",
       "      <td>0</td>\n",
       "      <td>Capital Federal</td>\n",
       "      <td>Capital Federal</td>\n",
       "      <td>NaN</td>\n",
       "      <td>U</td>\n",
       "      <td>-58.385136</td>\n",
       "      <td>-34.599685</td>\n",
       "      <td>1.081992e+04</td>\n",
       "      <td>2021</td>\n",
       "    </tr>\n",
       "    <tr>\n",
       "      <th>3</th>\n",
       "      <td>62402</td>\n",
       "      <td>2022-11-01</td>\n",
       "      <td>Departamento</td>\n",
       "      <td>436.0</td>\n",
       "      <td>436.0</td>\n",
       "      <td>2</td>\n",
       "      <td>3</td>\n",
       "      <td>8</td>\n",
       "      <td>NaN</td>\n",
       "      <td>NaN</td>\n",
       "      <td>...</td>\n",
       "      <td>0.0</td>\n",
       "      <td>NaN</td>\n",
       "      <td>Capital Federal</td>\n",
       "      <td>Capital Federal</td>\n",
       "      <td>Recoleta</td>\n",
       "      <td>U</td>\n",
       "      <td>-58.393617</td>\n",
       "      <td>-34.585162</td>\n",
       "      <td>1.230069e+05</td>\n",
       "      <td>2022</td>\n",
       "    </tr>\n",
       "    <tr>\n",
       "      <th>4</th>\n",
       "      <td>57804</td>\n",
       "      <td>2021-04-01</td>\n",
       "      <td>Departamento</td>\n",
       "      <td>300.0</td>\n",
       "      <td>300.0</td>\n",
       "      <td>2</td>\n",
       "      <td>4</td>\n",
       "      <td>6</td>\n",
       "      <td>0</td>\n",
       "      <td>No</td>\n",
       "      <td>...</td>\n",
       "      <td>No</td>\n",
       "      <td>0</td>\n",
       "      <td>Capital Federal</td>\n",
       "      <td>Capital Federal</td>\n",
       "      <td>Monserrat</td>\n",
       "      <td>U</td>\n",
       "      <td>-58.376592</td>\n",
       "      <td>-34.610603</td>\n",
       "      <td>7.714647e+06</td>\n",
       "      <td>2021</td>\n",
       "    </tr>\n",
       "  </tbody>\n",
       "</table>\n",
       "<p>5 rows × 45 columns</p>\n",
       "</div>"
      ],
      "text/plain": [
       "   id_grid  MesListing TIPOPROPIEDAD  STotalM2  SConstrM2  Dormitorios  Banos  \\\n",
       "0    59362  2022-08-01  Departamento      39.0       36.0            1      1   \n",
       "1    68287  2021-04-01  Departamento      47.0       40.0            1      1   \n",
       "2    59774  2021-09-01  Departamento     128.0       63.0            1      1   \n",
       "3    62402  2022-11-01  Departamento     436.0      436.0            2      3   \n",
       "4    57804  2021-04-01  Departamento     300.0      300.0            2      4   \n",
       "\n",
       "   Ambientes SitioOrigen Amoblado  ... CanchaTennis AreaCine  \\\n",
       "0          2         NaN      0.0  ...          0.0      NaN   \n",
       "1          2           0       No  ...            0        0   \n",
       "2          3           0       No  ...            0        0   \n",
       "3          8         NaN      NaN  ...          0.0      NaN   \n",
       "4          6           0       No  ...           No        0   \n",
       "\n",
       "  ITE_ADD_CITY_NAME   ITE_ADD_STATE_NAME ITE_ADD_NEIGHBORHOOD_NAME  \\\n",
       "0           Caseros  Bs.As. G.B.A. Oeste                   Caseros   \n",
       "1   Capital Federal      Capital Federal                     Núñez   \n",
       "2   Capital Federal      Capital Federal                       NaN   \n",
       "3   Capital Federal      Capital Federal                  Recoleta   \n",
       "4   Capital Federal      Capital Federal                 Monserrat   \n",
       "\n",
       "  ITE_TIPO_PROD  LONGITUDE   LATITUDE precio_pesos_constantes  year  \n",
       "0             N -58.566145 -34.599299            6.279294e+03  2022  \n",
       "1             U -58.473708 -34.551759            1.092339e+04  2021  \n",
       "2             U -58.385136 -34.599685            1.081992e+04  2021  \n",
       "3             U -58.393617 -34.585162            1.230069e+05  2022  \n",
       "4             U -58.376592 -34.610603            7.714647e+06  2021  \n",
       "\n",
       "[5 rows x 45 columns]"
      ]
     },
     "execution_count": 74,
     "metadata": {},
     "output_type": "execute_result"
    }
   ],
   "source": [
    "df = pd.read_csv('alquiler_AMBA_dev.csv', low_memory=False)\n",
    "filas, columnas = df.shape\n",
    "print(f\"El dataset tiene {filas} filas y {columnas} columnas.\")\n",
    "df.head()"
   ]
  },
  {
   "cell_type": "markdown",
   "metadata": {},
   "source": [
    "### Exploración de los Datos"
   ]
  },
  {
   "cell_type": "code",
   "execution_count": 75,
   "metadata": {},
   "outputs": [
    {
     "data": {
      "text/html": [
       "<div>\n",
       "<style scoped>\n",
       "    .dataframe tbody tr th:only-of-type {\n",
       "        vertical-align: middle;\n",
       "    }\n",
       "\n",
       "    .dataframe tbody tr th {\n",
       "        vertical-align: top;\n",
       "    }\n",
       "\n",
       "    .dataframe thead th {\n",
       "        text-align: right;\n",
       "    }\n",
       "</style>\n",
       "<table border=\"1\" class=\"dataframe\">\n",
       "  <thead>\n",
       "    <tr style=\"text-align: right;\">\n",
       "      <th></th>\n",
       "      <th>id_grid</th>\n",
       "      <th>STotalM2</th>\n",
       "      <th>SConstrM2</th>\n",
       "      <th>Dormitorios</th>\n",
       "      <th>Banos</th>\n",
       "      <th>Ambientes</th>\n",
       "      <th>Cocheras</th>\n",
       "      <th>PistaJogging</th>\n",
       "      <th>Lobby</th>\n",
       "      <th>LocalesComerciales</th>\n",
       "      <th>AreaParrillas</th>\n",
       "      <th>LONGITUDE</th>\n",
       "      <th>LATITUDE</th>\n",
       "      <th>precio_pesos_constantes</th>\n",
       "      <th>year</th>\n",
       "    </tr>\n",
       "  </thead>\n",
       "  <tbody>\n",
       "    <tr>\n",
       "      <th>count</th>\n",
       "      <td>278725.000000</td>\n",
       "      <td>2.787050e+05</td>\n",
       "      <td>2.787050e+05</td>\n",
       "      <td>278725.000000</td>\n",
       "      <td>278725.000000</td>\n",
       "      <td>278725.000000</td>\n",
       "      <td>278725.000000</td>\n",
       "      <td>188004.0</td>\n",
       "      <td>188004.0</td>\n",
       "      <td>188004.0</td>\n",
       "      <td>253676.000000</td>\n",
       "      <td>278725.000000</td>\n",
       "      <td>278725.000000</td>\n",
       "      <td>2.787250e+05</td>\n",
       "      <td>278725.000000</td>\n",
       "    </tr>\n",
       "    <tr>\n",
       "      <th>mean</th>\n",
       "      <td>59833.062739</td>\n",
       "      <td>3.739940e+03</td>\n",
       "      <td>3.356831e+04</td>\n",
       "      <td>1.422237</td>\n",
       "      <td>1.335632</td>\n",
       "      <td>2.389473</td>\n",
       "      <td>0.402454</td>\n",
       "      <td>0.0</td>\n",
       "      <td>0.0</td>\n",
       "      <td>0.0</td>\n",
       "      <td>0.035301</td>\n",
       "      <td>-58.481580</td>\n",
       "      <td>-34.597932</td>\n",
       "      <td>8.088557e+04</td>\n",
       "      <td>2021.481776</td>\n",
       "    </tr>\n",
       "    <tr>\n",
       "      <th>std</th>\n",
       "      <td>14774.014764</td>\n",
       "      <td>9.492445e+05</td>\n",
       "      <td>8.415217e+06</td>\n",
       "      <td>1.199622</td>\n",
       "      <td>1.023134</td>\n",
       "      <td>1.392421</td>\n",
       "      <td>2.088215</td>\n",
       "      <td>0.0</td>\n",
       "      <td>0.0</td>\n",
       "      <td>0.0</td>\n",
       "      <td>0.184540</td>\n",
       "      <td>0.115362</td>\n",
       "      <td>0.081715</td>\n",
       "      <td>6.675325e+05</td>\n",
       "      <td>0.499669</td>\n",
       "    </tr>\n",
       "    <tr>\n",
       "      <th>min</th>\n",
       "      <td>124.000000</td>\n",
       "      <td>0.000000e+00</td>\n",
       "      <td>0.000000e+00</td>\n",
       "      <td>0.000000</td>\n",
       "      <td>-1.000000</td>\n",
       "      <td>0.000000</td>\n",
       "      <td>-4.000000</td>\n",
       "      <td>0.0</td>\n",
       "      <td>0.0</td>\n",
       "      <td>0.0</td>\n",
       "      <td>0.000000</td>\n",
       "      <td>-58.874595</td>\n",
       "      <td>-34.923504</td>\n",
       "      <td>4.264038e+01</td>\n",
       "      <td>2021.000000</td>\n",
       "    </tr>\n",
       "    <tr>\n",
       "      <th>25%</th>\n",
       "      <td>53518.000000</td>\n",
       "      <td>3.800000e+01</td>\n",
       "      <td>3.600000e+01</td>\n",
       "      <td>1.000000</td>\n",
       "      <td>1.000000</td>\n",
       "      <td>2.000000</td>\n",
       "      <td>0.000000</td>\n",
       "      <td>0.0</td>\n",
       "      <td>0.0</td>\n",
       "      <td>0.0</td>\n",
       "      <td>0.000000</td>\n",
       "      <td>-58.544408</td>\n",
       "      <td>-34.632289</td>\n",
       "      <td>6.568300e+03</td>\n",
       "      <td>2021.000000</td>\n",
       "    </tr>\n",
       "    <tr>\n",
       "      <th>50%</th>\n",
       "      <td>60083.000000</td>\n",
       "      <td>5.000000e+01</td>\n",
       "      <td>4.600000e+01</td>\n",
       "      <td>1.000000</td>\n",
       "      <td>1.000000</td>\n",
       "      <td>2.000000</td>\n",
       "      <td>0.000000</td>\n",
       "      <td>0.0</td>\n",
       "      <td>0.0</td>\n",
       "      <td>0.0</td>\n",
       "      <td>0.000000</td>\n",
       "      <td>-58.450050</td>\n",
       "      <td>-34.597882</td>\n",
       "      <td>9.169347e+03</td>\n",
       "      <td>2021.000000</td>\n",
       "    </tr>\n",
       "    <tr>\n",
       "      <th>75%</th>\n",
       "      <td>65662.000000</td>\n",
       "      <td>7.600000e+01</td>\n",
       "      <td>7.000000e+01</td>\n",
       "      <td>2.000000</td>\n",
       "      <td>1.000000</td>\n",
       "      <td>3.000000</td>\n",
       "      <td>1.000000</td>\n",
       "      <td>0.0</td>\n",
       "      <td>0.0</td>\n",
       "      <td>0.0</td>\n",
       "      <td>0.000000</td>\n",
       "      <td>-58.401102</td>\n",
       "      <td>-34.566600</td>\n",
       "      <td>1.883788e+04</td>\n",
       "      <td>2022.000000</td>\n",
       "    </tr>\n",
       "    <tr>\n",
       "      <th>max</th>\n",
       "      <td>97826.000000</td>\n",
       "      <td>3.321555e+08</td>\n",
       "      <td>2.287862e+09</td>\n",
       "      <td>99.000000</td>\n",
       "      <td>212.000000</td>\n",
       "      <td>212.000000</td>\n",
       "      <td>239.000000</td>\n",
       "      <td>0.0</td>\n",
       "      <td>0.0</td>\n",
       "      <td>0.0</td>\n",
       "      <td>1.000000</td>\n",
       "      <td>-58.159577</td>\n",
       "      <td>-34.385571</td>\n",
       "      <td>3.518759e+07</td>\n",
       "      <td>2022.000000</td>\n",
       "    </tr>\n",
       "  </tbody>\n",
       "</table>\n",
       "</div>"
      ],
      "text/plain": [
       "             id_grid      STotalM2     SConstrM2    Dormitorios  \\\n",
       "count  278725.000000  2.787050e+05  2.787050e+05  278725.000000   \n",
       "mean    59833.062739  3.739940e+03  3.356831e+04       1.422237   \n",
       "std     14774.014764  9.492445e+05  8.415217e+06       1.199622   \n",
       "min       124.000000  0.000000e+00  0.000000e+00       0.000000   \n",
       "25%     53518.000000  3.800000e+01  3.600000e+01       1.000000   \n",
       "50%     60083.000000  5.000000e+01  4.600000e+01       1.000000   \n",
       "75%     65662.000000  7.600000e+01  7.000000e+01       2.000000   \n",
       "max     97826.000000  3.321555e+08  2.287862e+09      99.000000   \n",
       "\n",
       "               Banos      Ambientes       Cocheras  PistaJogging     Lobby  \\\n",
       "count  278725.000000  278725.000000  278725.000000      188004.0  188004.0   \n",
       "mean        1.335632       2.389473       0.402454           0.0       0.0   \n",
       "std         1.023134       1.392421       2.088215           0.0       0.0   \n",
       "min        -1.000000       0.000000      -4.000000           0.0       0.0   \n",
       "25%         1.000000       2.000000       0.000000           0.0       0.0   \n",
       "50%         1.000000       2.000000       0.000000           0.0       0.0   \n",
       "75%         1.000000       3.000000       1.000000           0.0       0.0   \n",
       "max       212.000000     212.000000     239.000000           0.0       0.0   \n",
       "\n",
       "       LocalesComerciales  AreaParrillas      LONGITUDE       LATITUDE  \\\n",
       "count            188004.0  253676.000000  278725.000000  278725.000000   \n",
       "mean                  0.0       0.035301     -58.481580     -34.597932   \n",
       "std                   0.0       0.184540       0.115362       0.081715   \n",
       "min                   0.0       0.000000     -58.874595     -34.923504   \n",
       "25%                   0.0       0.000000     -58.544408     -34.632289   \n",
       "50%                   0.0       0.000000     -58.450050     -34.597882   \n",
       "75%                   0.0       0.000000     -58.401102     -34.566600   \n",
       "max                   0.0       1.000000     -58.159577     -34.385571   \n",
       "\n",
       "       precio_pesos_constantes           year  \n",
       "count             2.787250e+05  278725.000000  \n",
       "mean              8.088557e+04    2021.481776  \n",
       "std               6.675325e+05       0.499669  \n",
       "min               4.264038e+01    2021.000000  \n",
       "25%               6.568300e+03    2021.000000  \n",
       "50%               9.169347e+03    2021.000000  \n",
       "75%               1.883788e+04    2022.000000  \n",
       "max               3.518759e+07    2022.000000  "
      ]
     },
     "execution_count": 75,
     "metadata": {},
     "output_type": "execute_result"
    }
   ],
   "source": [
    "df.describe()"
   ]
  },
  {
   "cell_type": "code",
   "execution_count": 76,
   "metadata": {},
   "outputs": [
    {
     "name": "stdout",
     "output_type": "stream",
     "text": [
      "<class 'pandas.core.frame.DataFrame'>\n",
      "RangeIndex: 278725 entries, 0 to 278724\n",
      "Data columns (total 45 columns):\n",
      " #   Column                     Non-Null Count   Dtype  \n",
      "---  ------                     --------------   -----  \n",
      " 0   id_grid                    278725 non-null  int64  \n",
      " 1   MesListing                 278725 non-null  object \n",
      " 2   TIPOPROPIEDAD              278725 non-null  object \n",
      " 3   STotalM2                   278705 non-null  float64\n",
      " 4   SConstrM2                  278705 non-null  float64\n",
      " 5   Dormitorios                278725 non-null  int64  \n",
      " 6   Banos                      278725 non-null  int64  \n",
      " 7   Ambientes                  278725 non-null  int64  \n",
      " 8   SitioOrigen                188004 non-null  object \n",
      " 9   Amoblado                   246475 non-null  object \n",
      " 10  Antiguedad                 252752 non-null  object \n",
      " 11  Cisterna                   188004 non-null  object \n",
      " 12  AccesoInternet             247673 non-null  object \n",
      " 13  BusinessCenter             206667 non-null  object \n",
      " 14  Gimnasio                   244611 non-null  object \n",
      " 15  Laundry                    248350 non-null  object \n",
      " 16  Calefaccion                247440 non-null  object \n",
      " 17  SalonDeUsosMul             243126 non-null  object \n",
      " 18  AireAC                     250108 non-null  object \n",
      " 19  Recepcion                  207787 non-null  object \n",
      " 20  Estacionamiento            207321 non-null  object \n",
      " 21  Jacuzzi                    241971 non-null  object \n",
      " 22  AreaJuegosInfantiles       188004 non-null  object \n",
      " 23  Chimenea                   206789 non-null  object \n",
      " 24  Ascensor                   188004 non-null  object \n",
      " 25  SalonFiestas               207282 non-null  object \n",
      " 26  Seguridad                  243830 non-null  object \n",
      " 27  Pileta                     249453 non-null  object \n",
      " 28  Cocheras                   278725 non-null  int64  \n",
      " 29  PistaJogging               188004 non-null  float64\n",
      " 30  EstacionamientoVisitas     207321 non-null  object \n",
      " 31  Lobby                      188004 non-null  float64\n",
      " 32  LocalesComerciales         188004 non-null  float64\n",
      " 33  SistContraIncendios        188004 non-null  object \n",
      " 34  AreaParrillas              253676 non-null  float64\n",
      " 35  CanchaTennis               207147 non-null  object \n",
      " 36  AreaCine                   188004 non-null  object \n",
      " 37  ITE_ADD_CITY_NAME          278725 non-null  object \n",
      " 38  ITE_ADD_STATE_NAME         278725 non-null  object \n",
      " 39  ITE_ADD_NEIGHBORHOOD_NAME  265691 non-null  object \n",
      " 40  ITE_TIPO_PROD              278725 non-null  object \n",
      " 41  LONGITUDE                  278725 non-null  float64\n",
      " 42  LATITUDE                   278725 non-null  float64\n",
      " 43  precio_pesos_constantes    278725 non-null  float64\n",
      " 44  year                       278725 non-null  int64  \n",
      "dtypes: float64(9), int64(6), object(30)\n",
      "memory usage: 95.7+ MB\n"
     ]
    }
   ],
   "source": [
    "df.info()"
   ]
  },
  {
   "cell_type": "markdown",
   "metadata": {},
   "source": [
    "#### Datos faltantes por columna"
   ]
  },
  {
   "cell_type": "code",
   "execution_count": 77,
   "metadata": {},
   "outputs": [
    {
     "name": "stdout",
     "output_type": "stream",
     "text": [
      "id_grid                          0\n",
      "MesListing                       0\n",
      "TIPOPROPIEDAD                    0\n",
      "STotalM2                        20\n",
      "SConstrM2                       20\n",
      "Dormitorios                      0\n",
      "Banos                            0\n",
      "Ambientes                        0\n",
      "SitioOrigen                  90721\n",
      "Amoblado                     32250\n",
      "Antiguedad                   25973\n",
      "Cisterna                     90721\n",
      "AccesoInternet               31052\n",
      "BusinessCenter               72058\n",
      "Gimnasio                     34114\n",
      "Laundry                      30375\n",
      "Calefaccion                  31285\n",
      "SalonDeUsosMul               35599\n",
      "AireAC                       28617\n",
      "Recepcion                    70938\n",
      "Estacionamiento              71404\n",
      "Jacuzzi                      36754\n",
      "AreaJuegosInfantiles         90721\n",
      "Chimenea                     71936\n",
      "Ascensor                     90721\n",
      "SalonFiestas                 71443\n",
      "Seguridad                    34895\n",
      "Pileta                       29272\n",
      "Cocheras                         0\n",
      "PistaJogging                 90721\n",
      "EstacionamientoVisitas       71404\n",
      "Lobby                        90721\n",
      "LocalesComerciales           90721\n",
      "SistContraIncendios          90721\n",
      "AreaParrillas                25049\n",
      "CanchaTennis                 71578\n",
      "AreaCine                     90721\n",
      "ITE_ADD_CITY_NAME                0\n",
      "ITE_ADD_STATE_NAME               0\n",
      "ITE_ADD_NEIGHBORHOOD_NAME    13034\n",
      "ITE_TIPO_PROD                    0\n",
      "LONGITUDE                        0\n",
      "LATITUDE                         0\n",
      "precio_pesos_constantes          0\n",
      "year                             0\n",
      "dtype: int64\n"
     ]
    }
   ],
   "source": [
    "faltantes = df.isnull().sum()\n",
    "print(faltantes)\n"
   ]
  },
  {
   "cell_type": "markdown",
   "metadata": {},
   "source": [
    "### Limpieza de datos"
   ]
  },
  {
   "cell_type": "markdown",
   "metadata": {},
   "source": [
    "#### Se eliminan las filas duplicadas"
   ]
  },
  {
   "cell_type": "code",
   "execution_count": 78,
   "metadata": {},
   "outputs": [
    {
     "name": "stdout",
     "output_type": "stream",
     "text": [
      "Cantidad de filas después de eliminar duplicadas: 270722\n"
     ]
    }
   ],
   "source": [
    "df = df.drop_duplicates()\n",
    "print(f\"Cantidad de filas después de eliminar duplicadas: {len(df)}\")\n"
   ]
  },
  {
   "cell_type": "markdown",
   "metadata": {},
   "source": [
    "#### 1. id_grind\n",
    "Se deja igual.\n",
    "No hay valores faltantes. Tipo de datos: int64"
   ]
  },
  {
   "cell_type": "code",
   "execution_count": 79,
   "metadata": {},
   "outputs": [
    {
     "name": "stdout",
     "output_type": "stream",
     "text": [
      "int64\n"
     ]
    },
    {
     "data": {
      "text/plain": [
       "np.int64(0)"
      ]
     },
     "execution_count": 79,
     "metadata": {},
     "output_type": "execute_result"
    }
   ],
   "source": [
    "print(df['id_grid'].dtype)\n",
    "df['id_grid'].isnull().sum()"
   ]
  },
  {
   "cell_type": "markdown",
   "metadata": {},
   "source": [
    "#### 2. MesListing\n",
    "Se cambia a tipo de dato datetime. No hay valores faltantes. Tipo de datos: datetime64"
   ]
  },
  {
   "cell_type": "code",
   "execution_count": 80,
   "metadata": {},
   "outputs": [
    {
     "name": "stdout",
     "output_type": "stream",
     "text": [
      "int64\n"
     ]
    }
   ],
   "source": [
    "print(df['id_grid'].dtype)\n",
    "df['id_grid'].isnull().sum()\n",
    "df['MesListing'] = pd.to_datetime(df['MesListing'])"
   ]
  },
  {
   "cell_type": "markdown",
   "metadata": {},
   "source": [
    "#### 3. TIPOPROPIEDAD\n",
    "Se elimina la columna ya que son todos departamentos y no agrega información."
   ]
  },
  {
   "cell_type": "code",
   "execution_count": 81,
   "metadata": {},
   "outputs": [],
   "source": [
    "df['TIPOPROPIEDAD'].unique()\n",
    "df.drop(columns=['TIPOPROPIEDAD'], inplace=True)"
   ]
  },
  {
   "cell_type": "markdown",
   "metadata": {},
   "source": [
    "#### 4. STotalM2\n",
    "Había 20 valores faltantes. Se eliminaron estas filas ya que no eran representativas. Hay otros 8227 valores que dice 00 que no tiene sentido por lo que se lo reemplaza con la media."
   ]
  },
  {
   "cell_type": "code",
   "execution_count": 82,
   "metadata": {},
   "outputs": [
    {
     "name": "stdout",
     "output_type": "stream",
     "text": [
      "El dataset tiene 270702 filas y 44 columnas.\n"
     ]
    }
   ],
   "source": [
    "df = df.dropna(subset=['STotalM2'])\n",
    "filas, columnas = df.shape\n",
    "print(f\"El dataset tiene {filas} filas y {columnas} columnas.\")\n"
   ]
  },
  {
   "cell_type": "code",
   "execution_count": 83,
   "metadata": {},
   "outputs": [
    {
     "name": "stdout",
     "output_type": "stream",
     "text": [
      "        id_grid MesListing  STotalM2  SConstrM2  Dormitorios  Banos  \\\n",
      "65        46904 2021-07-01       0.0       32.0            1      1   \n",
      "95        53533 2021-11-01       0.0       43.0            1      1   \n",
      "98        60739 2021-06-01       0.0       36.0            1      1   \n",
      "107       41049 2021-10-01       0.0       40.0            1      1   \n",
      "132       64363 2021-05-01       0.0      184.0            3      3   \n",
      "...         ...        ...       ...        ...          ...    ...   \n",
      "278591    87533 2022-04-01       0.0      100.0            3      2   \n",
      "278620    62067 2021-03-01       0.0       34.0            0      1   \n",
      "278643    94852 2022-04-01       0.0      150.0            3      3   \n",
      "278697    76832 2022-03-01       0.0       45.0            1      1   \n",
      "278705    59109 2021-11-01       0.0       82.0            3      1   \n",
      "\n",
      "        Ambientes SitioOrigen Amoblado Antiguedad  ... CanchaTennis AreaCine  \\\n",
      "65              1           0       Sí     0 años  ...            0        0   \n",
      "95              2           0       No   110 años  ...            0        0   \n",
      "98              2           0       No    45 años  ...            0        0   \n",
      "107             2           0       No     4 años  ...            0        0   \n",
      "132             4           0       No    40 años  ...            0        0   \n",
      "...           ...         ...      ...        ...  ...          ...      ...   \n",
      "278591          4         0.0       No     4 años  ...            0        0   \n",
      "278620          1           0       No     0 años  ...            0        0   \n",
      "278643          4         0.0       No    15 años  ...            0        0   \n",
      "278697          2         0.0       No     0 años  ...            0        0   \n",
      "278705          3           0       Sí    40 años  ...            0        0   \n",
      "\n",
      "       ITE_ADD_CITY_NAME   ITE_ADD_STATE_NAME ITE_ADD_NEIGHBORHOOD_NAME  \\\n",
      "65       Capital Federal      Capital Federal              Villa Lugano   \n",
      "95       Capital Federal      Capital Federal                   La Boca   \n",
      "98       Capital Federal      Capital Federal                   Palermo   \n",
      "107           Avellaneda    Bs.As. G.B.A. Sur                     Wilde   \n",
      "132      Capital Federal      Capital Federal             Palermo Chico   \n",
      "...                  ...                  ...                       ...   \n",
      "278591             Pilar  Bs.As. G.B.A. Norte                       NaN   \n",
      "278620   Capital Federal      Capital Federal                  Recoleta   \n",
      "278643             Tigre  Bs.As. G.B.A. Norte       Nordelta Portezuelo   \n",
      "278697     Vicente López  Bs.As. G.B.A. Norte                 La Lucila   \n",
      "278705   Capital Federal      Capital Federal                 Balvanera   \n",
      "\n",
      "       ITE_TIPO_PROD  LONGITUDE   LATITUDE precio_pesos_constantes  year  \n",
      "65                 N -58.471416 -34.669007             8417.627218  2021  \n",
      "95                 U -58.363891 -34.634190             4532.912274  2021  \n",
      "98                 U -58.433014 -34.593722             6831.032027  2021  \n",
      "107                U -58.325716 -34.703141             5343.170342  2021  \n",
      "132                U -58.421775 -34.574016            48268.240450  2021  \n",
      "...              ...        ...        ...                     ...   ...  \n",
      "278591             U -58.830907 -34.440529            41684.181142  2022  \n",
      "278620             N -58.406728 -34.586815            16036.382678  2021  \n",
      "278643             U -58.653865 -34.403378            34736.817618  2022  \n",
      "278697             N -58.492484 -34.504643            15049.196168  2022  \n",
      "278705             U -58.400460 -34.603117            21531.333301  2021  \n",
      "\n",
      "[8132 rows x 44 columns]\n",
      "Cantidad de valores igual a cero en STotalM2 después de imputar: 0\n"
     ]
    }
   ],
   "source": [
    "df_ceros = df[df['STotalM2'] == 0]\n",
    "print(df_ceros)\n",
    "media_stotalm2 = df.loc[df['STotalM2'] > 0, 'STotalM2'].mean()\n",
    "df['STotalM2'] = df['STotalM2'].replace(0, media_stotalm2)\n",
    "print(f\"Cantidad de valores igual a cero en STotalM2 después de imputar: {(df['STotalM2'] == 0).sum()}\")"
   ]
  },
  {
   "cell_type": "markdown",
   "metadata": {},
   "source": [
    "#### 5. SConstrM2"
   ]
  },
  {
   "cell_type": "code",
   "execution_count": 84,
   "metadata": {},
   "outputs": [
    {
     "name": "stdout",
     "output_type": "stream",
     "text": [
      "Cantidad de valores igual a cero en STotalM2 después de imputar: 0\n"
     ]
    }
   ],
   "source": [
    "media_stotalm2 = df.loc[df['SConstrM2'] > 0, 'SConstrM2'].mean()\n",
    "df['SConstrM2'] = df['SConstrM2'].replace(0, media_stotalm2)\n",
    "print(f\"Cantidad de valores igual a cero en STotalM2 después de imputar: {(df['SConstrM2'] == 0).sum()}\")\n"
   ]
  },
  {
   "cell_type": "markdown",
   "metadata": {},
   "source": [
    "#### 6. Dormitorios\n",
    "Se borrarlon las filas con dormitorios> 40. Para los que estan entre 40 y 20 se analizó los M2 construídos y si tenía al menos 400 se conservó y sino se eliminó. Se eliminaron las filas con 0 dormitorios y 0 ambientes."
   ]
  },
  {
   "cell_type": "code",
   "execution_count": 85,
   "metadata": {},
   "outputs": [
    {
     "name": "stdout",
     "output_type": "stream",
     "text": [
      "Cantidad de filas eliminadas por STotalM2 menor a 400: 11\n",
      "Cantidad de filas restantes con Dormitorios == 0 y Ambientes == 0: 0\n"
     ]
    }
   ],
   "source": [
    "umbral_superficie = 400\n",
    "df_filtrar = df[(df['Dormitorios'] >= 20) & (df['Dormitorios'] <= 40)]\n",
    "a_eliminar = df_filtrar[df_filtrar['STotalM2'] < umbral_superficie]\n",
    "print(f\"Cantidad de filas eliminadas por STotalM2 menor a {umbral_superficie}: {len(a_eliminar)}\")\n",
    "df = df[~((df['Dormitorios'] >= 20) & (df['Dormitorios'] <= 40) & (df['STotalM2'] < umbral_superficie))]\n",
    "df = df[~((df['Dormitorios'] == 0) & (df['Ambientes'] == 0))]\n",
    "print(f\"Cantidad de filas restantes con Dormitorios == 0 y Ambientes == 0: {len(df[(df['Dormitorios'] == 0) & (df['Ambientes'] == 0)])}\")\n"
   ]
  },
  {
   "cell_type": "markdown",
   "metadata": {},
   "source": [
    "#### 7. Banos\n",
    "Se eliminaron las filas que contenian mas de 7 y menos de 0 baños."
   ]
  },
  {
   "cell_type": "code",
   "execution_count": 86,
   "metadata": {},
   "outputs": [
    {
     "data": {
      "text/plain": [
       "array([1, 3, 4, 2, 6, 5, 7])"
      ]
     },
     "execution_count": 86,
     "metadata": {},
     "output_type": "execute_result"
    }
   ],
   "source": [
    "df = df[df['Banos'] <= 7]\n",
    "df = df[df['Banos'] > 0]\n",
    "df['Banos'].unique()\n"
   ]
  },
  {
   "cell_type": "markdown",
   "metadata": {},
   "source": [
    "#### 8. Ambientes\n",
    "Se eliminan las filas en las que ambientes < dormitorios y que ambientes < baños y aquellas con mas de 30 ambientes."
   ]
  },
  {
   "cell_type": "code",
   "execution_count": 87,
   "metadata": {},
   "outputs": [
    {
     "data": {
      "text/plain": [
       "array([ 2,  3,  8,  6,  1,  4,  7,  5,  9, 10, 21, 11, 20, 15, 22, 12, 23])"
      ]
     },
     "execution_count": 87,
     "metadata": {},
     "output_type": "execute_result"
    }
   ],
   "source": [
    "df = df[~((df['Ambientes'] < df['Dormitorios']) | (df['Ambientes'] < df['Banos']))]\n",
    "df = df[~((df['Ambientes'] >= 30 )) ]\n",
    "df['Ambientes'].unique()\n"
   ]
  },
  {
   "cell_type": "markdown",
   "metadata": {},
   "source": [
    "#### 9. SitioOrigen\n",
    "Se elimina la columna ya que no aporta información relevamte. 99% de los datos faltantes."
   ]
  },
  {
   "cell_type": "code",
   "execution_count": 88,
   "metadata": {},
   "outputs": [],
   "source": [
    "df.drop(columns=['SitioOrigen'], inplace=True)"
   ]
  },
  {
   "cell_type": "markdown",
   "metadata": {},
   "source": [
    "#### 10. Amoblado\n",
    "Se paso a valores binarios. Los faltantes se reeplazó por el más común (0)."
   ]
  },
  {
   "cell_type": "code",
   "execution_count": 89,
   "metadata": {},
   "outputs": [
    {
     "name": "stderr",
     "output_type": "stream",
     "text": [
      "/var/folders/cd/3txhv68d0498qdntmvvxsxpc0000gn/T/ipykernel_40672/1741617380.py:1: FutureWarning: Downcasting behavior in `replace` is deprecated and will be removed in a future version. To retain the old behavior, explicitly call `result.infer_objects(copy=False)`. To opt-in to the future behavior, set `pd.set_option('future.no_silent_downcasting', True)`\n",
      "  df['Amoblado'] = df['Amoblado'].replace({\n"
     ]
    }
   ],
   "source": [
    "df['Amoblado'] = df['Amoblado'].replace({\n",
    "    '0.0': 0, 'No': 0, '0': 0, '   0': 0, \n",
    "    '1.0': 1, '1': 1, 'Sí': 1\n",
    "})\n",
    "df['Amoblado'] = pd.to_numeric(df['Amoblado'], errors='coerce')\n",
    "df['Amoblado'] = df['Amoblado'].fillna(0)\n"
   ]
  },
  {
   "cell_type": "markdown",
   "metadata": {},
   "source": [
    "#### 11. Antiguedad\n",
    "\n",
    "Se paso a números. Se eliminaron las filas con valores faltantes. Se eliminaron los valores mayores a 2024 y menores a 0. Para los que parecían ser años se hizo 2024 menos el año para obtener el número de antiguedad. Se paso a columna categorica del 1 al 5 (del más nuevo al más antiguo)."
   ]
  },
  {
   "cell_type": "markdown",
   "metadata": {},
   "source": [
    "ACA NO SE SI FUE LA MEJOR DECISION ELIMINAR LOS VALORES FALTANTES!"
   ]
  },
  {
   "cell_type": "code",
   "execution_count": 90,
   "metadata": {},
   "outputs": [
    {
     "data": {
      "text/plain": [
       "np.int64(0)"
      ]
     },
     "execution_count": 90,
     "metadata": {},
     "output_type": "execute_result"
    }
   ],
   "source": [
    "df = df[df['Antiguedad'].notnull()]\n",
    "df['Antiguedad'] = df['Antiguedad'].replace(r'[^0-9.]', '', regex=True)\n",
    "df['Antiguedad'] = pd.to_numeric(df['Antiguedad'], errors='coerce').astype('Int64')\n",
    "df = df[~((df['Antiguedad'] > 2024) | (df['Antiguedad'] < 0))]\n",
    "df['Antiguedad'].isnull().sum()\n"
   ]
  },
  {
   "cell_type": "code",
   "execution_count": 91,
   "metadata": {},
   "outputs": [
    {
     "data": {
      "text/plain": [
       "array([  0,   7,  40,  50,   2,  20,   4,  35,  45,  15,   8,  62,  42,\n",
       "        10,   6,  12,   3,   9,  30,  17,  41, 110,  75,  25,   5,  13,\n",
       "        51,   1,  16,  22,  60,  18,  33,  11,  48,  49,  19,  47,  70,\n",
       "        26,  39,  28,  43,  37,  55,  61, 100,  27,  29,  65,  54,  80,\n",
       "        90,  32,  56,  14,  52,  85,  38,  63,  36,  59,  21,  24,  72,\n",
       "        77,  88,  44,  69,  23,  34,  66,  81,  71,  31,  46,  57,  78,\n",
       "        82,  53,  94,  58,  83,  68,  87, 122,  92,  86,  91,  95,  84,\n",
       "        97, 142,  64, 102, 104,  89, 141, 152,  67, 132,  98, 121, 150,\n",
       "       410, 101, 109,  76, 130, 105,  79,  96,  93, 151, 300,  99, 118,\n",
       "       112, 160, 200, 111, 212,  73, 131, 120, 405, 117,  74])"
      ]
     },
     "execution_count": 91,
     "metadata": {},
     "output_type": "execute_result"
    }
   ],
   "source": [
    "ano_actual = 2024\n",
    "es_ano = df['Antiguedad'] >= 1700\n",
    "df.loc[es_ano, 'Antiguedad'] = ano_actual - df.loc[es_ano, 'Antiguedad']\n",
    "df['Antiguedad'] = df['Antiguedad'].astype(int)\n",
    "df = df[df['Antiguedad'] <= 500]\n",
    "df['Antiguedad'].unique()"
   ]
  },
  {
   "cell_type": "code",
   "execution_count": 92,
   "metadata": {},
   "outputs": [],
   "source": [
    "def categorizar_antiguedad(antiguedad):\n",
    "    if antiguedad <= 5:\n",
    "        return 1  \n",
    "    elif 5 < antiguedad <= 15:\n",
    "        return 2  \n",
    "    elif 15 < antiguedad <= 40:\n",
    "        return 3  \n",
    "    elif 40 < antiguedad <= 80:\n",
    "        return 4  \n",
    "    else:\n",
    "        return 5  \n",
    "\n",
    "df['Antiguedad'] = df['Antiguedad'].apply(lambda x: categorizar_antiguedad(x) if pd.notnull(x) else None)"
   ]
  },
  {
   "cell_type": "markdown",
   "metadata": {},
   "source": [
    "#### 12. Cisterna"
   ]
  },
  {
   "cell_type": "code",
   "execution_count": null,
   "metadata": {},
   "outputs": [],
   "source": []
  }
 ],
 "metadata": {
  "kernelspec": {
   "display_name": ".venv",
   "language": "python",
   "name": "python3"
  },
  "language_info": {
   "codemirror_mode": {
    "name": "ipython",
    "version": 3
   },
   "file_extension": ".py",
   "mimetype": "text/x-python",
   "name": "python",
   "nbconvert_exporter": "python",
   "pygments_lexer": "ipython3",
   "version": "3.11.6"
  }
 },
 "nbformat": 4,
 "nbformat_minor": 2
}
