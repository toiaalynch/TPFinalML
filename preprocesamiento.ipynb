{
 "cells": [
  {
   "cell_type": "markdown",
   "metadata": {},
   "source": [
    "# Preprocesamiento datos Alquiler AMBA"
   ]
  },
  {
   "cell_type": "markdown",
   "metadata": {},
   "source": [
    "### Importar librerías"
   ]
  },
  {
   "cell_type": "code",
   "execution_count": 488,
   "metadata": {},
   "outputs": [],
   "source": [
    "import numpy as np\n",
    "import pandas as pd\n",
    "import matplotlib.pyplot as plt"
   ]
  },
  {
   "cell_type": "markdown",
   "metadata": {},
   "source": [
    "### Cargar el archivo a procesar"
   ]
  },
  {
   "cell_type": "code",
   "execution_count": 489,
   "metadata": {},
   "outputs": [
    {
     "data": {
      "text/html": [
       "<div>\n",
       "<style scoped>\n",
       "    .dataframe tbody tr th:only-of-type {\n",
       "        vertical-align: middle;\n",
       "    }\n",
       "\n",
       "    .dataframe tbody tr th {\n",
       "        vertical-align: top;\n",
       "    }\n",
       "\n",
       "    .dataframe thead th {\n",
       "        text-align: right;\n",
       "    }\n",
       "</style>\n",
       "<table border=\"1\" class=\"dataframe\">\n",
       "  <thead>\n",
       "    <tr style=\"text-align: right;\">\n",
       "      <th></th>\n",
       "      <th>id_grid</th>\n",
       "      <th>MesListing</th>\n",
       "      <th>TIPOPROPIEDAD</th>\n",
       "      <th>STotalM2</th>\n",
       "      <th>SConstrM2</th>\n",
       "      <th>Dormitorios</th>\n",
       "      <th>Banos</th>\n",
       "      <th>Ambientes</th>\n",
       "      <th>SitioOrigen</th>\n",
       "      <th>Amoblado</th>\n",
       "      <th>...</th>\n",
       "      <th>CanchaTennis</th>\n",
       "      <th>AreaCine</th>\n",
       "      <th>ITE_ADD_CITY_NAME</th>\n",
       "      <th>ITE_ADD_STATE_NAME</th>\n",
       "      <th>ITE_ADD_NEIGHBORHOOD_NAME</th>\n",
       "      <th>ITE_TIPO_PROD</th>\n",
       "      <th>LONGITUDE</th>\n",
       "      <th>LATITUDE</th>\n",
       "      <th>precio_pesos_constantes</th>\n",
       "      <th>year</th>\n",
       "    </tr>\n",
       "  </thead>\n",
       "  <tbody>\n",
       "    <tr>\n",
       "      <th>0</th>\n",
       "      <td>59362</td>\n",
       "      <td>2022-08-01</td>\n",
       "      <td>Departamento</td>\n",
       "      <td>39.0</td>\n",
       "      <td>36.0</td>\n",
       "      <td>1</td>\n",
       "      <td>1</td>\n",
       "      <td>2</td>\n",
       "      <td>NaN</td>\n",
       "      <td>0.0</td>\n",
       "      <td>...</td>\n",
       "      <td>0.0</td>\n",
       "      <td>NaN</td>\n",
       "      <td>Caseros</td>\n",
       "      <td>Bs.As. G.B.A. Oeste</td>\n",
       "      <td>Caseros</td>\n",
       "      <td>N</td>\n",
       "      <td>-58.566145</td>\n",
       "      <td>-34.599299</td>\n",
       "      <td>6.279294e+03</td>\n",
       "      <td>2022</td>\n",
       "    </tr>\n",
       "    <tr>\n",
       "      <th>1</th>\n",
       "      <td>68287</td>\n",
       "      <td>2021-04-01</td>\n",
       "      <td>Departamento</td>\n",
       "      <td>47.0</td>\n",
       "      <td>40.0</td>\n",
       "      <td>1</td>\n",
       "      <td>1</td>\n",
       "      <td>2</td>\n",
       "      <td>0</td>\n",
       "      <td>No</td>\n",
       "      <td>...</td>\n",
       "      <td>0</td>\n",
       "      <td>0</td>\n",
       "      <td>Capital Federal</td>\n",
       "      <td>Capital Federal</td>\n",
       "      <td>Núñez</td>\n",
       "      <td>U</td>\n",
       "      <td>-58.473708</td>\n",
       "      <td>-34.551759</td>\n",
       "      <td>1.092339e+04</td>\n",
       "      <td>2021</td>\n",
       "    </tr>\n",
       "    <tr>\n",
       "      <th>2</th>\n",
       "      <td>59774</td>\n",
       "      <td>2021-09-01</td>\n",
       "      <td>Departamento</td>\n",
       "      <td>128.0</td>\n",
       "      <td>63.0</td>\n",
       "      <td>1</td>\n",
       "      <td>1</td>\n",
       "      <td>3</td>\n",
       "      <td>0</td>\n",
       "      <td>No</td>\n",
       "      <td>...</td>\n",
       "      <td>0</td>\n",
       "      <td>0</td>\n",
       "      <td>Capital Federal</td>\n",
       "      <td>Capital Federal</td>\n",
       "      <td>NaN</td>\n",
       "      <td>U</td>\n",
       "      <td>-58.385136</td>\n",
       "      <td>-34.599685</td>\n",
       "      <td>1.081992e+04</td>\n",
       "      <td>2021</td>\n",
       "    </tr>\n",
       "    <tr>\n",
       "      <th>3</th>\n",
       "      <td>62402</td>\n",
       "      <td>2022-11-01</td>\n",
       "      <td>Departamento</td>\n",
       "      <td>436.0</td>\n",
       "      <td>436.0</td>\n",
       "      <td>2</td>\n",
       "      <td>3</td>\n",
       "      <td>8</td>\n",
       "      <td>NaN</td>\n",
       "      <td>NaN</td>\n",
       "      <td>...</td>\n",
       "      <td>0.0</td>\n",
       "      <td>NaN</td>\n",
       "      <td>Capital Federal</td>\n",
       "      <td>Capital Federal</td>\n",
       "      <td>Recoleta</td>\n",
       "      <td>U</td>\n",
       "      <td>-58.393617</td>\n",
       "      <td>-34.585162</td>\n",
       "      <td>1.230069e+05</td>\n",
       "      <td>2022</td>\n",
       "    </tr>\n",
       "    <tr>\n",
       "      <th>4</th>\n",
       "      <td>57804</td>\n",
       "      <td>2021-04-01</td>\n",
       "      <td>Departamento</td>\n",
       "      <td>300.0</td>\n",
       "      <td>300.0</td>\n",
       "      <td>2</td>\n",
       "      <td>4</td>\n",
       "      <td>6</td>\n",
       "      <td>0</td>\n",
       "      <td>No</td>\n",
       "      <td>...</td>\n",
       "      <td>No</td>\n",
       "      <td>0</td>\n",
       "      <td>Capital Federal</td>\n",
       "      <td>Capital Federal</td>\n",
       "      <td>Monserrat</td>\n",
       "      <td>U</td>\n",
       "      <td>-58.376592</td>\n",
       "      <td>-34.610603</td>\n",
       "      <td>7.714647e+06</td>\n",
       "      <td>2021</td>\n",
       "    </tr>\n",
       "  </tbody>\n",
       "</table>\n",
       "<p>5 rows × 45 columns</p>\n",
       "</div>"
      ],
      "text/plain": [
       "   id_grid  MesListing TIPOPROPIEDAD  STotalM2  SConstrM2  Dormitorios  Banos  \\\n",
       "0    59362  2022-08-01  Departamento      39.0       36.0            1      1   \n",
       "1    68287  2021-04-01  Departamento      47.0       40.0            1      1   \n",
       "2    59774  2021-09-01  Departamento     128.0       63.0            1      1   \n",
       "3    62402  2022-11-01  Departamento     436.0      436.0            2      3   \n",
       "4    57804  2021-04-01  Departamento     300.0      300.0            2      4   \n",
       "\n",
       "   Ambientes SitioOrigen Amoblado  ... CanchaTennis AreaCine  \\\n",
       "0          2         NaN      0.0  ...          0.0      NaN   \n",
       "1          2           0       No  ...            0        0   \n",
       "2          3           0       No  ...            0        0   \n",
       "3          8         NaN      NaN  ...          0.0      NaN   \n",
       "4          6           0       No  ...           No        0   \n",
       "\n",
       "  ITE_ADD_CITY_NAME   ITE_ADD_STATE_NAME ITE_ADD_NEIGHBORHOOD_NAME  \\\n",
       "0           Caseros  Bs.As. G.B.A. Oeste                   Caseros   \n",
       "1   Capital Federal      Capital Federal                     Núñez   \n",
       "2   Capital Federal      Capital Federal                       NaN   \n",
       "3   Capital Federal      Capital Federal                  Recoleta   \n",
       "4   Capital Federal      Capital Federal                 Monserrat   \n",
       "\n",
       "  ITE_TIPO_PROD  LONGITUDE   LATITUDE precio_pesos_constantes  year  \n",
       "0             N -58.566145 -34.599299            6.279294e+03  2022  \n",
       "1             U -58.473708 -34.551759            1.092339e+04  2021  \n",
       "2             U -58.385136 -34.599685            1.081992e+04  2021  \n",
       "3             U -58.393617 -34.585162            1.230069e+05  2022  \n",
       "4             U -58.376592 -34.610603            7.714647e+06  2021  \n",
       "\n",
       "[5 rows x 45 columns]"
      ]
     },
     "execution_count": 489,
     "metadata": {},
     "output_type": "execute_result"
    }
   ],
   "source": [
    "path_toia = '/Users/victoria/Desktop/alquiler_AMBA_dev.csv'\n",
    "df_original = pd.read_csv(path_toia, low_memory=False)\n",
    "df_original.head()"
   ]
  },
  {
   "cell_type": "code",
   "execution_count": 490,
   "metadata": {},
   "outputs": [
    {
     "name": "stdout",
     "output_type": "stream",
     "text": [
      "El dataset tiene 278725 filas y 45 columnas.\n"
     ]
    },
    {
     "data": {
      "text/html": [
       "<div>\n",
       "<style scoped>\n",
       "    .dataframe tbody tr th:only-of-type {\n",
       "        vertical-align: middle;\n",
       "    }\n",
       "\n",
       "    .dataframe tbody tr th {\n",
       "        vertical-align: top;\n",
       "    }\n",
       "\n",
       "    .dataframe thead th {\n",
       "        text-align: right;\n",
       "    }\n",
       "</style>\n",
       "<table border=\"1\" class=\"dataframe\">\n",
       "  <thead>\n",
       "    <tr style=\"text-align: right;\">\n",
       "      <th></th>\n",
       "      <th>id_grid</th>\n",
       "      <th>MesListing</th>\n",
       "      <th>TIPOPROPIEDAD</th>\n",
       "      <th>STotalM2</th>\n",
       "      <th>SConstrM2</th>\n",
       "      <th>Dormitorios</th>\n",
       "      <th>Banos</th>\n",
       "      <th>Ambientes</th>\n",
       "      <th>SitioOrigen</th>\n",
       "      <th>Amoblado</th>\n",
       "      <th>...</th>\n",
       "      <th>CanchaTennis</th>\n",
       "      <th>AreaCine</th>\n",
       "      <th>ITE_ADD_CITY_NAME</th>\n",
       "      <th>ITE_ADD_STATE_NAME</th>\n",
       "      <th>ITE_ADD_NEIGHBORHOOD_NAME</th>\n",
       "      <th>ITE_TIPO_PROD</th>\n",
       "      <th>LONGITUDE</th>\n",
       "      <th>LATITUDE</th>\n",
       "      <th>precio_pesos_constantes</th>\n",
       "      <th>year</th>\n",
       "    </tr>\n",
       "  </thead>\n",
       "  <tbody>\n",
       "    <tr>\n",
       "      <th>0</th>\n",
       "      <td>59362</td>\n",
       "      <td>2022-08-01</td>\n",
       "      <td>Departamento</td>\n",
       "      <td>39.0</td>\n",
       "      <td>36.0</td>\n",
       "      <td>1</td>\n",
       "      <td>1</td>\n",
       "      <td>2</td>\n",
       "      <td>NaN</td>\n",
       "      <td>0.0</td>\n",
       "      <td>...</td>\n",
       "      <td>0.0</td>\n",
       "      <td>NaN</td>\n",
       "      <td>Caseros</td>\n",
       "      <td>Bs.As. G.B.A. Oeste</td>\n",
       "      <td>Caseros</td>\n",
       "      <td>N</td>\n",
       "      <td>-58.566145</td>\n",
       "      <td>-34.599299</td>\n",
       "      <td>6.279294e+03</td>\n",
       "      <td>2022</td>\n",
       "    </tr>\n",
       "    <tr>\n",
       "      <th>1</th>\n",
       "      <td>68287</td>\n",
       "      <td>2021-04-01</td>\n",
       "      <td>Departamento</td>\n",
       "      <td>47.0</td>\n",
       "      <td>40.0</td>\n",
       "      <td>1</td>\n",
       "      <td>1</td>\n",
       "      <td>2</td>\n",
       "      <td>0</td>\n",
       "      <td>No</td>\n",
       "      <td>...</td>\n",
       "      <td>0</td>\n",
       "      <td>0</td>\n",
       "      <td>Capital Federal</td>\n",
       "      <td>Capital Federal</td>\n",
       "      <td>Núñez</td>\n",
       "      <td>U</td>\n",
       "      <td>-58.473708</td>\n",
       "      <td>-34.551759</td>\n",
       "      <td>1.092339e+04</td>\n",
       "      <td>2021</td>\n",
       "    </tr>\n",
       "    <tr>\n",
       "      <th>2</th>\n",
       "      <td>59774</td>\n",
       "      <td>2021-09-01</td>\n",
       "      <td>Departamento</td>\n",
       "      <td>128.0</td>\n",
       "      <td>63.0</td>\n",
       "      <td>1</td>\n",
       "      <td>1</td>\n",
       "      <td>3</td>\n",
       "      <td>0</td>\n",
       "      <td>No</td>\n",
       "      <td>...</td>\n",
       "      <td>0</td>\n",
       "      <td>0</td>\n",
       "      <td>Capital Federal</td>\n",
       "      <td>Capital Federal</td>\n",
       "      <td>NaN</td>\n",
       "      <td>U</td>\n",
       "      <td>-58.385136</td>\n",
       "      <td>-34.599685</td>\n",
       "      <td>1.081992e+04</td>\n",
       "      <td>2021</td>\n",
       "    </tr>\n",
       "    <tr>\n",
       "      <th>3</th>\n",
       "      <td>62402</td>\n",
       "      <td>2022-11-01</td>\n",
       "      <td>Departamento</td>\n",
       "      <td>436.0</td>\n",
       "      <td>436.0</td>\n",
       "      <td>2</td>\n",
       "      <td>3</td>\n",
       "      <td>8</td>\n",
       "      <td>NaN</td>\n",
       "      <td>NaN</td>\n",
       "      <td>...</td>\n",
       "      <td>0.0</td>\n",
       "      <td>NaN</td>\n",
       "      <td>Capital Federal</td>\n",
       "      <td>Capital Federal</td>\n",
       "      <td>Recoleta</td>\n",
       "      <td>U</td>\n",
       "      <td>-58.393617</td>\n",
       "      <td>-34.585162</td>\n",
       "      <td>1.230069e+05</td>\n",
       "      <td>2022</td>\n",
       "    </tr>\n",
       "    <tr>\n",
       "      <th>4</th>\n",
       "      <td>57804</td>\n",
       "      <td>2021-04-01</td>\n",
       "      <td>Departamento</td>\n",
       "      <td>300.0</td>\n",
       "      <td>300.0</td>\n",
       "      <td>2</td>\n",
       "      <td>4</td>\n",
       "      <td>6</td>\n",
       "      <td>0</td>\n",
       "      <td>No</td>\n",
       "      <td>...</td>\n",
       "      <td>No</td>\n",
       "      <td>0</td>\n",
       "      <td>Capital Federal</td>\n",
       "      <td>Capital Federal</td>\n",
       "      <td>Monserrat</td>\n",
       "      <td>U</td>\n",
       "      <td>-58.376592</td>\n",
       "      <td>-34.610603</td>\n",
       "      <td>7.714647e+06</td>\n",
       "      <td>2021</td>\n",
       "    </tr>\n",
       "  </tbody>\n",
       "</table>\n",
       "<p>5 rows × 45 columns</p>\n",
       "</div>"
      ],
      "text/plain": [
       "   id_grid  MesListing TIPOPROPIEDAD  STotalM2  SConstrM2  Dormitorios  Banos  \\\n",
       "0    59362  2022-08-01  Departamento      39.0       36.0            1      1   \n",
       "1    68287  2021-04-01  Departamento      47.0       40.0            1      1   \n",
       "2    59774  2021-09-01  Departamento     128.0       63.0            1      1   \n",
       "3    62402  2022-11-01  Departamento     436.0      436.0            2      3   \n",
       "4    57804  2021-04-01  Departamento     300.0      300.0            2      4   \n",
       "\n",
       "   Ambientes SitioOrigen Amoblado  ... CanchaTennis AreaCine  \\\n",
       "0          2         NaN      0.0  ...          0.0      NaN   \n",
       "1          2           0       No  ...            0        0   \n",
       "2          3           0       No  ...            0        0   \n",
       "3          8         NaN      NaN  ...          0.0      NaN   \n",
       "4          6           0       No  ...           No        0   \n",
       "\n",
       "  ITE_ADD_CITY_NAME   ITE_ADD_STATE_NAME ITE_ADD_NEIGHBORHOOD_NAME  \\\n",
       "0           Caseros  Bs.As. G.B.A. Oeste                   Caseros   \n",
       "1   Capital Federal      Capital Federal                     Núñez   \n",
       "2   Capital Federal      Capital Federal                       NaN   \n",
       "3   Capital Federal      Capital Federal                  Recoleta   \n",
       "4   Capital Federal      Capital Federal                 Monserrat   \n",
       "\n",
       "  ITE_TIPO_PROD  LONGITUDE   LATITUDE precio_pesos_constantes  year  \n",
       "0             N -58.566145 -34.599299            6.279294e+03  2022  \n",
       "1             U -58.473708 -34.551759            1.092339e+04  2021  \n",
       "2             U -58.385136 -34.599685            1.081992e+04  2021  \n",
       "3             U -58.393617 -34.585162            1.230069e+05  2022  \n",
       "4             U -58.376592 -34.610603            7.714647e+06  2021  \n",
       "\n",
       "[5 rows x 45 columns]"
      ]
     },
     "execution_count": 490,
     "metadata": {},
     "output_type": "execute_result"
    }
   ],
   "source": [
    "df = pd.read_csv(path_toia, low_memory=False)\n",
    "filas, columnas = df.shape\n",
    "print(f\"El dataset tiene {filas} filas y {columnas} columnas.\")\n",
    "df.head()"
   ]
  },
  {
   "cell_type": "markdown",
   "metadata": {},
   "source": [
    "### Exploración de los Datos"
   ]
  },
  {
   "cell_type": "code",
   "execution_count": 491,
   "metadata": {},
   "outputs": [
    {
     "data": {
      "text/html": [
       "<div>\n",
       "<style scoped>\n",
       "    .dataframe tbody tr th:only-of-type {\n",
       "        vertical-align: middle;\n",
       "    }\n",
       "\n",
       "    .dataframe tbody tr th {\n",
       "        vertical-align: top;\n",
       "    }\n",
       "\n",
       "    .dataframe thead th {\n",
       "        text-align: right;\n",
       "    }\n",
       "</style>\n",
       "<table border=\"1\" class=\"dataframe\">\n",
       "  <thead>\n",
       "    <tr style=\"text-align: right;\">\n",
       "      <th></th>\n",
       "      <th>id_grid</th>\n",
       "      <th>STotalM2</th>\n",
       "      <th>SConstrM2</th>\n",
       "      <th>Dormitorios</th>\n",
       "      <th>Banos</th>\n",
       "      <th>Ambientes</th>\n",
       "      <th>Cocheras</th>\n",
       "      <th>PistaJogging</th>\n",
       "      <th>Lobby</th>\n",
       "      <th>LocalesComerciales</th>\n",
       "      <th>AreaParrillas</th>\n",
       "      <th>LONGITUDE</th>\n",
       "      <th>LATITUDE</th>\n",
       "      <th>precio_pesos_constantes</th>\n",
       "      <th>year</th>\n",
       "    </tr>\n",
       "  </thead>\n",
       "  <tbody>\n",
       "    <tr>\n",
       "      <th>count</th>\n",
       "      <td>278725.000000</td>\n",
       "      <td>2.787050e+05</td>\n",
       "      <td>2.787050e+05</td>\n",
       "      <td>278725.000000</td>\n",
       "      <td>278725.000000</td>\n",
       "      <td>278725.000000</td>\n",
       "      <td>278725.000000</td>\n",
       "      <td>188004.0</td>\n",
       "      <td>188004.0</td>\n",
       "      <td>188004.0</td>\n",
       "      <td>253676.000000</td>\n",
       "      <td>278725.000000</td>\n",
       "      <td>278725.000000</td>\n",
       "      <td>2.787250e+05</td>\n",
       "      <td>278725.000000</td>\n",
       "    </tr>\n",
       "    <tr>\n",
       "      <th>mean</th>\n",
       "      <td>59833.062739</td>\n",
       "      <td>3.739940e+03</td>\n",
       "      <td>3.356831e+04</td>\n",
       "      <td>1.422237</td>\n",
       "      <td>1.335632</td>\n",
       "      <td>2.389473</td>\n",
       "      <td>0.402454</td>\n",
       "      <td>0.0</td>\n",
       "      <td>0.0</td>\n",
       "      <td>0.0</td>\n",
       "      <td>0.035301</td>\n",
       "      <td>-58.481580</td>\n",
       "      <td>-34.597932</td>\n",
       "      <td>8.088557e+04</td>\n",
       "      <td>2021.481776</td>\n",
       "    </tr>\n",
       "    <tr>\n",
       "      <th>std</th>\n",
       "      <td>14774.014764</td>\n",
       "      <td>9.492445e+05</td>\n",
       "      <td>8.415217e+06</td>\n",
       "      <td>1.199622</td>\n",
       "      <td>1.023134</td>\n",
       "      <td>1.392421</td>\n",
       "      <td>2.088215</td>\n",
       "      <td>0.0</td>\n",
       "      <td>0.0</td>\n",
       "      <td>0.0</td>\n",
       "      <td>0.184540</td>\n",
       "      <td>0.115362</td>\n",
       "      <td>0.081715</td>\n",
       "      <td>6.675325e+05</td>\n",
       "      <td>0.499669</td>\n",
       "    </tr>\n",
       "    <tr>\n",
       "      <th>min</th>\n",
       "      <td>124.000000</td>\n",
       "      <td>0.000000e+00</td>\n",
       "      <td>0.000000e+00</td>\n",
       "      <td>0.000000</td>\n",
       "      <td>-1.000000</td>\n",
       "      <td>0.000000</td>\n",
       "      <td>-4.000000</td>\n",
       "      <td>0.0</td>\n",
       "      <td>0.0</td>\n",
       "      <td>0.0</td>\n",
       "      <td>0.000000</td>\n",
       "      <td>-58.874595</td>\n",
       "      <td>-34.923504</td>\n",
       "      <td>4.264038e+01</td>\n",
       "      <td>2021.000000</td>\n",
       "    </tr>\n",
       "    <tr>\n",
       "      <th>25%</th>\n",
       "      <td>53518.000000</td>\n",
       "      <td>3.800000e+01</td>\n",
       "      <td>3.600000e+01</td>\n",
       "      <td>1.000000</td>\n",
       "      <td>1.000000</td>\n",
       "      <td>2.000000</td>\n",
       "      <td>0.000000</td>\n",
       "      <td>0.0</td>\n",
       "      <td>0.0</td>\n",
       "      <td>0.0</td>\n",
       "      <td>0.000000</td>\n",
       "      <td>-58.544408</td>\n",
       "      <td>-34.632289</td>\n",
       "      <td>6.568300e+03</td>\n",
       "      <td>2021.000000</td>\n",
       "    </tr>\n",
       "    <tr>\n",
       "      <th>50%</th>\n",
       "      <td>60083.000000</td>\n",
       "      <td>5.000000e+01</td>\n",
       "      <td>4.600000e+01</td>\n",
       "      <td>1.000000</td>\n",
       "      <td>1.000000</td>\n",
       "      <td>2.000000</td>\n",
       "      <td>0.000000</td>\n",
       "      <td>0.0</td>\n",
       "      <td>0.0</td>\n",
       "      <td>0.0</td>\n",
       "      <td>0.000000</td>\n",
       "      <td>-58.450050</td>\n",
       "      <td>-34.597882</td>\n",
       "      <td>9.169347e+03</td>\n",
       "      <td>2021.000000</td>\n",
       "    </tr>\n",
       "    <tr>\n",
       "      <th>75%</th>\n",
       "      <td>65662.000000</td>\n",
       "      <td>7.600000e+01</td>\n",
       "      <td>7.000000e+01</td>\n",
       "      <td>2.000000</td>\n",
       "      <td>1.000000</td>\n",
       "      <td>3.000000</td>\n",
       "      <td>1.000000</td>\n",
       "      <td>0.0</td>\n",
       "      <td>0.0</td>\n",
       "      <td>0.0</td>\n",
       "      <td>0.000000</td>\n",
       "      <td>-58.401102</td>\n",
       "      <td>-34.566600</td>\n",
       "      <td>1.883788e+04</td>\n",
       "      <td>2022.000000</td>\n",
       "    </tr>\n",
       "    <tr>\n",
       "      <th>max</th>\n",
       "      <td>97826.000000</td>\n",
       "      <td>3.321555e+08</td>\n",
       "      <td>2.287862e+09</td>\n",
       "      <td>99.000000</td>\n",
       "      <td>212.000000</td>\n",
       "      <td>212.000000</td>\n",
       "      <td>239.000000</td>\n",
       "      <td>0.0</td>\n",
       "      <td>0.0</td>\n",
       "      <td>0.0</td>\n",
       "      <td>1.000000</td>\n",
       "      <td>-58.159577</td>\n",
       "      <td>-34.385571</td>\n",
       "      <td>3.518759e+07</td>\n",
       "      <td>2022.000000</td>\n",
       "    </tr>\n",
       "  </tbody>\n",
       "</table>\n",
       "</div>"
      ],
      "text/plain": [
       "             id_grid      STotalM2     SConstrM2    Dormitorios  \\\n",
       "count  278725.000000  2.787050e+05  2.787050e+05  278725.000000   \n",
       "mean    59833.062739  3.739940e+03  3.356831e+04       1.422237   \n",
       "std     14774.014764  9.492445e+05  8.415217e+06       1.199622   \n",
       "min       124.000000  0.000000e+00  0.000000e+00       0.000000   \n",
       "25%     53518.000000  3.800000e+01  3.600000e+01       1.000000   \n",
       "50%     60083.000000  5.000000e+01  4.600000e+01       1.000000   \n",
       "75%     65662.000000  7.600000e+01  7.000000e+01       2.000000   \n",
       "max     97826.000000  3.321555e+08  2.287862e+09      99.000000   \n",
       "\n",
       "               Banos      Ambientes       Cocheras  PistaJogging     Lobby  \\\n",
       "count  278725.000000  278725.000000  278725.000000      188004.0  188004.0   \n",
       "mean        1.335632       2.389473       0.402454           0.0       0.0   \n",
       "std         1.023134       1.392421       2.088215           0.0       0.0   \n",
       "min        -1.000000       0.000000      -4.000000           0.0       0.0   \n",
       "25%         1.000000       2.000000       0.000000           0.0       0.0   \n",
       "50%         1.000000       2.000000       0.000000           0.0       0.0   \n",
       "75%         1.000000       3.000000       1.000000           0.0       0.0   \n",
       "max       212.000000     212.000000     239.000000           0.0       0.0   \n",
       "\n",
       "       LocalesComerciales  AreaParrillas      LONGITUDE       LATITUDE  \\\n",
       "count            188004.0  253676.000000  278725.000000  278725.000000   \n",
       "mean                  0.0       0.035301     -58.481580     -34.597932   \n",
       "std                   0.0       0.184540       0.115362       0.081715   \n",
       "min                   0.0       0.000000     -58.874595     -34.923504   \n",
       "25%                   0.0       0.000000     -58.544408     -34.632289   \n",
       "50%                   0.0       0.000000     -58.450050     -34.597882   \n",
       "75%                   0.0       0.000000     -58.401102     -34.566600   \n",
       "max                   0.0       1.000000     -58.159577     -34.385571   \n",
       "\n",
       "       precio_pesos_constantes           year  \n",
       "count             2.787250e+05  278725.000000  \n",
       "mean              8.088557e+04    2021.481776  \n",
       "std               6.675325e+05       0.499669  \n",
       "min               4.264038e+01    2021.000000  \n",
       "25%               6.568300e+03    2021.000000  \n",
       "50%               9.169347e+03    2021.000000  \n",
       "75%               1.883788e+04    2022.000000  \n",
       "max               3.518759e+07    2022.000000  "
      ]
     },
     "execution_count": 491,
     "metadata": {},
     "output_type": "execute_result"
    }
   ],
   "source": [
    "df.describe()"
   ]
  },
  {
   "cell_type": "code",
   "execution_count": 492,
   "metadata": {},
   "outputs": [
    {
     "name": "stdout",
     "output_type": "stream",
     "text": [
      "<class 'pandas.core.frame.DataFrame'>\n",
      "RangeIndex: 278725 entries, 0 to 278724\n",
      "Data columns (total 45 columns):\n",
      " #   Column                     Non-Null Count   Dtype  \n",
      "---  ------                     --------------   -----  \n",
      " 0   id_grid                    278725 non-null  int64  \n",
      " 1   MesListing                 278725 non-null  object \n",
      " 2   TIPOPROPIEDAD              278725 non-null  object \n",
      " 3   STotalM2                   278705 non-null  float64\n",
      " 4   SConstrM2                  278705 non-null  float64\n",
      " 5   Dormitorios                278725 non-null  int64  \n",
      " 6   Banos                      278725 non-null  int64  \n",
      " 7   Ambientes                  278725 non-null  int64  \n",
      " 8   SitioOrigen                188004 non-null  object \n",
      " 9   Amoblado                   246475 non-null  object \n",
      " 10  Antiguedad                 252752 non-null  object \n",
      " 11  Cisterna                   188004 non-null  object \n",
      " 12  AccesoInternet             247673 non-null  object \n",
      " 13  BusinessCenter             206667 non-null  object \n",
      " 14  Gimnasio                   244611 non-null  object \n",
      " 15  Laundry                    248350 non-null  object \n",
      " 16  Calefaccion                247440 non-null  object \n",
      " 17  SalonDeUsosMul             243126 non-null  object \n",
      " 18  AireAC                     250108 non-null  object \n",
      " 19  Recepcion                  207787 non-null  object \n",
      " 20  Estacionamiento            207321 non-null  object \n",
      " 21  Jacuzzi                    241971 non-null  object \n",
      " 22  AreaJuegosInfantiles       188004 non-null  object \n",
      " 23  Chimenea                   206789 non-null  object \n",
      " 24  Ascensor                   188004 non-null  object \n",
      " 25  SalonFiestas               207282 non-null  object \n",
      " 26  Seguridad                  243830 non-null  object \n",
      " 27  Pileta                     249453 non-null  object \n",
      " 28  Cocheras                   278725 non-null  int64  \n",
      " 29  PistaJogging               188004 non-null  float64\n",
      " 30  EstacionamientoVisitas     207321 non-null  object \n",
      " 31  Lobby                      188004 non-null  float64\n",
      " 32  LocalesComerciales         188004 non-null  float64\n",
      " 33  SistContraIncendios        188004 non-null  object \n",
      " 34  AreaParrillas              253676 non-null  float64\n",
      " 35  CanchaTennis               207147 non-null  object \n",
      " 36  AreaCine                   188004 non-null  object \n",
      " 37  ITE_ADD_CITY_NAME          278725 non-null  object \n",
      " 38  ITE_ADD_STATE_NAME         278725 non-null  object \n",
      " 39  ITE_ADD_NEIGHBORHOOD_NAME  265691 non-null  object \n",
      " 40  ITE_TIPO_PROD              278725 non-null  object \n",
      " 41  LONGITUDE                  278725 non-null  float64\n",
      " 42  LATITUDE                   278725 non-null  float64\n",
      " 43  precio_pesos_constantes    278725 non-null  float64\n",
      " 44  year                       278725 non-null  int64  \n",
      "dtypes: float64(9), int64(6), object(30)\n",
      "memory usage: 95.7+ MB\n"
     ]
    }
   ],
   "source": [
    "df.info()"
   ]
  },
  {
   "cell_type": "markdown",
   "metadata": {},
   "source": [
    "#### Datos faltantes por columna"
   ]
  },
  {
   "cell_type": "code",
   "execution_count": 493,
   "metadata": {},
   "outputs": [
    {
     "name": "stdout",
     "output_type": "stream",
     "text": [
      "id_grid                          0\n",
      "MesListing                       0\n",
      "TIPOPROPIEDAD                    0\n",
      "STotalM2                        20\n",
      "SConstrM2                       20\n",
      "Dormitorios                      0\n",
      "Banos                            0\n",
      "Ambientes                        0\n",
      "SitioOrigen                  90721\n",
      "Amoblado                     32250\n",
      "Antiguedad                   25973\n",
      "Cisterna                     90721\n",
      "AccesoInternet               31052\n",
      "BusinessCenter               72058\n",
      "Gimnasio                     34114\n",
      "Laundry                      30375\n",
      "Calefaccion                  31285\n",
      "SalonDeUsosMul               35599\n",
      "AireAC                       28617\n",
      "Recepcion                    70938\n",
      "Estacionamiento              71404\n",
      "Jacuzzi                      36754\n",
      "AreaJuegosInfantiles         90721\n",
      "Chimenea                     71936\n",
      "Ascensor                     90721\n",
      "SalonFiestas                 71443\n",
      "Seguridad                    34895\n",
      "Pileta                       29272\n",
      "Cocheras                         0\n",
      "PistaJogging                 90721\n",
      "EstacionamientoVisitas       71404\n",
      "Lobby                        90721\n",
      "LocalesComerciales           90721\n",
      "SistContraIncendios          90721\n",
      "AreaParrillas                25049\n",
      "CanchaTennis                 71578\n",
      "AreaCine                     90721\n",
      "ITE_ADD_CITY_NAME                0\n",
      "ITE_ADD_STATE_NAME               0\n",
      "ITE_ADD_NEIGHBORHOOD_NAME    13034\n",
      "ITE_TIPO_PROD                    0\n",
      "LONGITUDE                        0\n",
      "LATITUDE                         0\n",
      "precio_pesos_constantes          0\n",
      "year                             0\n",
      "dtype: int64\n"
     ]
    }
   ],
   "source": [
    "faltantes = df.isnull().sum()\n",
    "print(faltantes)\n"
   ]
  },
  {
   "cell_type": "markdown",
   "metadata": {},
   "source": [
    "### Limpieza de datos"
   ]
  },
  {
   "cell_type": "markdown",
   "metadata": {},
   "source": [
    "#### Se eliminan las filas duplicadas"
   ]
  },
  {
   "cell_type": "code",
   "execution_count": 494,
   "metadata": {},
   "outputs": [
    {
     "name": "stdout",
     "output_type": "stream",
     "text": [
      "Cantidad de filas después de eliminar duplicadas: 270722\n"
     ]
    }
   ],
   "source": [
    "df = df.drop_duplicates()\n",
    "print(f\"Cantidad de filas después de eliminar duplicadas: {len(df)}\")"
   ]
  },
  {
   "cell_type": "markdown",
   "metadata": {},
   "source": [
    "#### 1. Eliminacion de columnas\n",
    "Las columnas Longitud, Latitud y id_grid no van a ser necesarias para la implementacion del modelo ya que o contienen informacion redundante o demasiados abstracta para agregar precision de prediccion.\n",
    "\n",
    "Por otro lado optamos por eliminar la columna STATE_NAME ya que esta es muy parecida a la columna CITY_NAME la cual es mas precisa pero aun asi mostrando valores muy similares. Para no aprender lo mismo sacamos la menos precisa.\n"
   ]
  },
  {
   "cell_type": "code",
   "execution_count": 495,
   "metadata": {},
   "outputs": [
    {
     "data": {
      "text/html": [
       "<div>\n",
       "<style scoped>\n",
       "    .dataframe tbody tr th:only-of-type {\n",
       "        vertical-align: middle;\n",
       "    }\n",
       "\n",
       "    .dataframe tbody tr th {\n",
       "        vertical-align: top;\n",
       "    }\n",
       "\n",
       "    .dataframe thead th {\n",
       "        text-align: right;\n",
       "    }\n",
       "</style>\n",
       "<table border=\"1\" class=\"dataframe\">\n",
       "  <thead>\n",
       "    <tr style=\"text-align: right;\">\n",
       "      <th></th>\n",
       "      <th>MesListing</th>\n",
       "      <th>TIPOPROPIEDAD</th>\n",
       "      <th>STotalM2</th>\n",
       "      <th>SConstrM2</th>\n",
       "      <th>Dormitorios</th>\n",
       "      <th>Banos</th>\n",
       "      <th>Ambientes</th>\n",
       "      <th>SitioOrigen</th>\n",
       "      <th>Amoblado</th>\n",
       "      <th>Antiguedad</th>\n",
       "      <th>...</th>\n",
       "      <th>SistContraIncendios</th>\n",
       "      <th>AreaParrillas</th>\n",
       "      <th>CanchaTennis</th>\n",
       "      <th>AreaCine</th>\n",
       "      <th>ITE_ADD_CITY_NAME</th>\n",
       "      <th>ITE_ADD_STATE_NAME</th>\n",
       "      <th>ITE_ADD_NEIGHBORHOOD_NAME</th>\n",
       "      <th>ITE_TIPO_PROD</th>\n",
       "      <th>precio_pesos_constantes</th>\n",
       "      <th>year</th>\n",
       "    </tr>\n",
       "  </thead>\n",
       "  <tbody>\n",
       "    <tr>\n",
       "      <th>0</th>\n",
       "      <td>2022-08-01</td>\n",
       "      <td>Departamento</td>\n",
       "      <td>39.0</td>\n",
       "      <td>36.0</td>\n",
       "      <td>1</td>\n",
       "      <td>1</td>\n",
       "      <td>2</td>\n",
       "      <td>NaN</td>\n",
       "      <td>0.0</td>\n",
       "      <td>0.0</td>\n",
       "      <td>...</td>\n",
       "      <td>NaN</td>\n",
       "      <td>0.0</td>\n",
       "      <td>0.0</td>\n",
       "      <td>NaN</td>\n",
       "      <td>Caseros</td>\n",
       "      <td>Bs.As. G.B.A. Oeste</td>\n",
       "      <td>Caseros</td>\n",
       "      <td>N</td>\n",
       "      <td>6.279294e+03</td>\n",
       "      <td>2022</td>\n",
       "    </tr>\n",
       "    <tr>\n",
       "      <th>1</th>\n",
       "      <td>2021-04-01</td>\n",
       "      <td>Departamento</td>\n",
       "      <td>47.0</td>\n",
       "      <td>40.0</td>\n",
       "      <td>1</td>\n",
       "      <td>1</td>\n",
       "      <td>2</td>\n",
       "      <td>0</td>\n",
       "      <td>No</td>\n",
       "      <td>7 años</td>\n",
       "      <td>...</td>\n",
       "      <td>0</td>\n",
       "      <td>0.0</td>\n",
       "      <td>0</td>\n",
       "      <td>0</td>\n",
       "      <td>Capital Federal</td>\n",
       "      <td>Capital Federal</td>\n",
       "      <td>Núñez</td>\n",
       "      <td>U</td>\n",
       "      <td>1.092339e+04</td>\n",
       "      <td>2021</td>\n",
       "    </tr>\n",
       "    <tr>\n",
       "      <th>2</th>\n",
       "      <td>2021-09-01</td>\n",
       "      <td>Departamento</td>\n",
       "      <td>128.0</td>\n",
       "      <td>63.0</td>\n",
       "      <td>1</td>\n",
       "      <td>1</td>\n",
       "      <td>3</td>\n",
       "      <td>0</td>\n",
       "      <td>No</td>\n",
       "      <td>40 años</td>\n",
       "      <td>...</td>\n",
       "      <td>0</td>\n",
       "      <td>0.0</td>\n",
       "      <td>0</td>\n",
       "      <td>0</td>\n",
       "      <td>Capital Federal</td>\n",
       "      <td>Capital Federal</td>\n",
       "      <td>NaN</td>\n",
       "      <td>U</td>\n",
       "      <td>1.081992e+04</td>\n",
       "      <td>2021</td>\n",
       "    </tr>\n",
       "    <tr>\n",
       "      <th>3</th>\n",
       "      <td>2022-11-01</td>\n",
       "      <td>Departamento</td>\n",
       "      <td>436.0</td>\n",
       "      <td>436.0</td>\n",
       "      <td>2</td>\n",
       "      <td>3</td>\n",
       "      <td>8</td>\n",
       "      <td>NaN</td>\n",
       "      <td>NaN</td>\n",
       "      <td>50.0</td>\n",
       "      <td>...</td>\n",
       "      <td>NaN</td>\n",
       "      <td>0.0</td>\n",
       "      <td>0.0</td>\n",
       "      <td>NaN</td>\n",
       "      <td>Capital Federal</td>\n",
       "      <td>Capital Federal</td>\n",
       "      <td>Recoleta</td>\n",
       "      <td>U</td>\n",
       "      <td>1.230069e+05</td>\n",
       "      <td>2022</td>\n",
       "    </tr>\n",
       "    <tr>\n",
       "      <th>4</th>\n",
       "      <td>2021-04-01</td>\n",
       "      <td>Departamento</td>\n",
       "      <td>300.0</td>\n",
       "      <td>300.0</td>\n",
       "      <td>2</td>\n",
       "      <td>4</td>\n",
       "      <td>6</td>\n",
       "      <td>0</td>\n",
       "      <td>No</td>\n",
       "      <td>0</td>\n",
       "      <td>...</td>\n",
       "      <td>0</td>\n",
       "      <td>0.0</td>\n",
       "      <td>No</td>\n",
       "      <td>0</td>\n",
       "      <td>Capital Federal</td>\n",
       "      <td>Capital Federal</td>\n",
       "      <td>Monserrat</td>\n",
       "      <td>U</td>\n",
       "      <td>7.714647e+06</td>\n",
       "      <td>2021</td>\n",
       "    </tr>\n",
       "  </tbody>\n",
       "</table>\n",
       "<p>5 rows × 42 columns</p>\n",
       "</div>"
      ],
      "text/plain": [
       "   MesListing TIPOPROPIEDAD  STotalM2  SConstrM2  Dormitorios  Banos  \\\n",
       "0  2022-08-01  Departamento      39.0       36.0            1      1   \n",
       "1  2021-04-01  Departamento      47.0       40.0            1      1   \n",
       "2  2021-09-01  Departamento     128.0       63.0            1      1   \n",
       "3  2022-11-01  Departamento     436.0      436.0            2      3   \n",
       "4  2021-04-01  Departamento     300.0      300.0            2      4   \n",
       "\n",
       "   Ambientes SitioOrigen Amoblado Antiguedad  ... SistContraIncendios  \\\n",
       "0          2         NaN      0.0        0.0  ...                 NaN   \n",
       "1          2           0       No     7 años  ...                   0   \n",
       "2          3           0       No    40 años  ...                   0   \n",
       "3          8         NaN      NaN       50.0  ...                 NaN   \n",
       "4          6           0       No          0  ...                   0   \n",
       "\n",
       "  AreaParrillas CanchaTennis AreaCine ITE_ADD_CITY_NAME   ITE_ADD_STATE_NAME  \\\n",
       "0           0.0          0.0      NaN           Caseros  Bs.As. G.B.A. Oeste   \n",
       "1           0.0            0        0   Capital Federal      Capital Federal   \n",
       "2           0.0            0        0   Capital Federal      Capital Federal   \n",
       "3           0.0          0.0      NaN   Capital Federal      Capital Federal   \n",
       "4           0.0           No        0   Capital Federal      Capital Federal   \n",
       "\n",
       "  ITE_ADD_NEIGHBORHOOD_NAME ITE_TIPO_PROD precio_pesos_constantes  year  \n",
       "0                   Caseros             N            6.279294e+03  2022  \n",
       "1                     Núñez             U            1.092339e+04  2021  \n",
       "2                       NaN             U            1.081992e+04  2021  \n",
       "3                  Recoleta             U            1.230069e+05  2022  \n",
       "4                 Monserrat             U            7.714647e+06  2021  \n",
       "\n",
       "[5 rows x 42 columns]"
      ]
     },
     "execution_count": 495,
     "metadata": {},
     "output_type": "execute_result"
    }
   ],
   "source": [
    "df.drop(columns=['LONGITUDE'], inplace=True)\n",
    "df.drop(columns=['LATITUDE'], inplace=True)\n",
    "df.drop(columns=['id_grid'], inplace=True)\n",
    "# df.drop(columns =['ITE_ADD_STATE_NAME'],inplace=True)\n",
    "df.head()"
   ]
  },
  {
   "cell_type": "markdown",
   "metadata": {},
   "source": [
    "#### 2. MesListing\n",
    "Se cambia a tipo de dato datetime. No hay valores faltantes. Tipo de datos: datetime64"
   ]
  },
  {
   "cell_type": "code",
   "execution_count": 496,
   "metadata": {},
   "outputs": [],
   "source": [
    "df['MesListing'] = pd.to_datetime(df['MesListing'])\n",
    "df['anio'] = df['MesListing'].dt.year\n",
    "df['mes'] = df['MesListing'].dt.month\n",
    "df['dia'] = df['MesListing'].dt.day\n",
    "df = df.drop(columns=['MesListing'])  # Cambia 'fecha' por el nombre de la columna\n",
    "\n"
   ]
  },
  {
   "cell_type": "markdown",
   "metadata": {},
   "source": [
    "#### 3. TIPOPROPIEDAD\n",
    "Se elimina la columna ya que son todos departamentos y no agrega información."
   ]
  },
  {
   "cell_type": "code",
   "execution_count": 497,
   "metadata": {},
   "outputs": [],
   "source": [
    "df['TIPOPROPIEDAD'].unique()\n",
    "df.drop(columns=['TIPOPROPIEDAD'], inplace=True)"
   ]
  },
  {
   "cell_type": "markdown",
   "metadata": {},
   "source": [
    "#### 4. STotalM2\n",
    "Había 20 valores faltantes. Se eliminaron estas filas ya que no eran representativas. Hay otros 8227 valores que dice 00 que no tiene sentido por lo que se lo reemplaza con la media."
   ]
  },
  {
   "cell_type": "code",
   "execution_count": 498,
   "metadata": {},
   "outputs": [
    {
     "name": "stdout",
     "output_type": "stream",
     "text": [
      "El dataset tiene 270702 filas y 43 columnas.\n"
     ]
    }
   ],
   "source": [
    "df = df.dropna(subset=['STotalM2'])\n",
    "filas, columnas = df.shape\n",
    "print(f\"El dataset tiene {filas} filas y {columnas} columnas.\")\n"
   ]
  },
  {
   "cell_type": "code",
   "execution_count": 499,
   "metadata": {},
   "outputs": [
    {
     "name": "stdout",
     "output_type": "stream",
     "text": [
      "        STotalM2  SConstrM2  Dormitorios  Banos  Ambientes SitioOrigen  \\\n",
      "65           0.0       32.0            1      1          1           0   \n",
      "95           0.0       43.0            1      1          2           0   \n",
      "98           0.0       36.0            1      1          2           0   \n",
      "107          0.0       40.0            1      1          2           0   \n",
      "132          0.0      184.0            3      3          4           0   \n",
      "...          ...        ...          ...    ...        ...         ...   \n",
      "278591       0.0      100.0            3      2          4         0.0   \n",
      "278620       0.0       34.0            0      1          1           0   \n",
      "278643       0.0      150.0            3      3          4         0.0   \n",
      "278697       0.0       45.0            1      1          2         0.0   \n",
      "278705       0.0       82.0            3      1          3           0   \n",
      "\n",
      "       Amoblado Antiguedad Cisterna AccesoInternet  ... AreaCine  \\\n",
      "65           Sí     0 años        0             Sí  ...        0   \n",
      "95           No   110 años        0             No  ...        0   \n",
      "98           No    45 años        0             No  ...        0   \n",
      "107          No     4 años        0             Sí  ...        0   \n",
      "132          No    40 años        0             Sí  ...        0   \n",
      "...         ...        ...      ...            ...  ...      ...   \n",
      "278591       No     4 años        0             Sí  ...        0   \n",
      "278620       No     0 años        0             No  ...        0   \n",
      "278643       No    15 años        0             Sí  ...        0   \n",
      "278697       No     0 años        0             No  ...        0   \n",
      "278705       Sí    40 años        0             No  ...        0   \n",
      "\n",
      "       ITE_ADD_CITY_NAME   ITE_ADD_STATE_NAME ITE_ADD_NEIGHBORHOOD_NAME  \\\n",
      "65       Capital Federal      Capital Federal              Villa Lugano   \n",
      "95       Capital Federal      Capital Federal                   La Boca   \n",
      "98       Capital Federal      Capital Federal                   Palermo   \n",
      "107           Avellaneda    Bs.As. G.B.A. Sur                     Wilde   \n",
      "132      Capital Federal      Capital Federal             Palermo Chico   \n",
      "...                  ...                  ...                       ...   \n",
      "278591             Pilar  Bs.As. G.B.A. Norte                       NaN   \n",
      "278620   Capital Federal      Capital Federal                  Recoleta   \n",
      "278643             Tigre  Bs.As. G.B.A. Norte       Nordelta Portezuelo   \n",
      "278697     Vicente López  Bs.As. G.B.A. Norte                 La Lucila   \n",
      "278705   Capital Federal      Capital Federal                 Balvanera   \n",
      "\n",
      "       ITE_TIPO_PROD precio_pesos_constantes  year  anio mes dia  \n",
      "65                 N             8417.627218  2021  2021   7   1  \n",
      "95                 U             4532.912274  2021  2021  11   1  \n",
      "98                 U             6831.032027  2021  2021   6   1  \n",
      "107                U             5343.170342  2021  2021  10   1  \n",
      "132                U            48268.240450  2021  2021   5   1  \n",
      "...              ...                     ...   ...   ...  ..  ..  \n",
      "278591             U            41684.181142  2022  2022   4   1  \n",
      "278620             N            16036.382678  2021  2021   3   1  \n",
      "278643             U            34736.817618  2022  2022   4   1  \n",
      "278697             N            15049.196168  2022  2022   3   1  \n",
      "278705             U            21531.333301  2021  2021  11   1  \n",
      "\n",
      "[8132 rows x 43 columns]\n",
      "Cantidad de valores igual a cero en STotalM2 después de imputar: 0\n"
     ]
    }
   ],
   "source": [
    "df_ceros = df[df['STotalM2'] == 0]\n",
    "print(df_ceros)\n",
    "media_stotalm2 = df.loc[df['STotalM2'] > 0, 'STotalM2'].mean()\n",
    "df['STotalM2'] = df['STotalM2'].replace(0, media_stotalm2)\n",
    "print(f\"Cantidad de valores igual a cero en STotalM2 después de imputar: {(df['STotalM2'] == 0).sum()}\")"
   ]
  },
  {
   "cell_type": "markdown",
   "metadata": {},
   "source": [
    "#### 5. SConstrM2"
   ]
  },
  {
   "cell_type": "code",
   "execution_count": 500,
   "metadata": {},
   "outputs": [
    {
     "name": "stdout",
     "output_type": "stream",
     "text": [
      "Cantidad de valores igual a cero en STotalM2 después de imputar: 0\n"
     ]
    }
   ],
   "source": [
    "media_stotalm2 = df.loc[df['SConstrM2'] > 0, 'SConstrM2'].mean()\n",
    "df['SConstrM2'] = df['SConstrM2'].replace(0, media_stotalm2)\n",
    "print(f\"Cantidad de valores igual a cero en STotalM2 después de imputar: {(df['SConstrM2'] == 0).sum()}\")\n"
   ]
  },
  {
   "cell_type": "markdown",
   "metadata": {},
   "source": [
    "#### 6. Dormitorios\n",
    "Se borrarlon las filas con dormitorios> 40. Para los que estan entre 40 y 20 se analizó los M2 construídos y si tenía al menos 400 se conservó y sino se eliminó. Se eliminaron las filas con 0 dormitorios y 0 ambientes."
   ]
  },
  {
   "cell_type": "code",
   "execution_count": 501,
   "metadata": {},
   "outputs": [
    {
     "name": "stdout",
     "output_type": "stream",
     "text": [
      "Cantidad de filas eliminadas por STotalM2 menor a 400: 11\n",
      "Cantidad de filas restantes con Dormitorios == 0 y Ambientes == 0: 0\n"
     ]
    }
   ],
   "source": [
    "umbral_superficie = 400\n",
    "df_filtrar = df[(df['Dormitorios'] >= 20) & (df['Dormitorios'] <= 40)]\n",
    "a_eliminar = df_filtrar[df_filtrar['STotalM2'] < umbral_superficie]\n",
    "print(f\"Cantidad de filas eliminadas por STotalM2 menor a {umbral_superficie}: {len(a_eliminar)}\")\n",
    "df = df[~((df['Dormitorios'] >= 20) & (df['Dormitorios'] <= 40) & (df['STotalM2'] < umbral_superficie))]\n",
    "df = df[~((df['Dormitorios'] == 0) & (df['Ambientes'] == 0))]\n",
    "print(f\"Cantidad de filas restantes con Dormitorios == 0 y Ambientes == 0: {len(df[(df['Dormitorios'] == 0) & (df['Ambientes'] == 0)])}\")\n"
   ]
  },
  {
   "cell_type": "markdown",
   "metadata": {},
   "source": [
    "#### 7. Banos\n",
    "Se eliminaron las filas que contenian mas de 7 y menos de 0 baños."
   ]
  },
  {
   "cell_type": "code",
   "execution_count": 502,
   "metadata": {},
   "outputs": [
    {
     "data": {
      "text/plain": [
       "array([1, 3, 4, 2, 6, 5, 7])"
      ]
     },
     "execution_count": 502,
     "metadata": {},
     "output_type": "execute_result"
    }
   ],
   "source": [
    "df = df[df['Banos'] <= 7]\n",
    "df = df[df['Banos'] > 0]\n",
    "df['Banos'].unique()\n"
   ]
  },
  {
   "cell_type": "markdown",
   "metadata": {},
   "source": [
    "#### 8. Ambientes\n",
    "Se eliminan las filas en las que ambientes < dormitorios y que ambientes < baños y aquellas con mas de 30 ambientes."
   ]
  },
  {
   "cell_type": "code",
   "execution_count": 503,
   "metadata": {},
   "outputs": [
    {
     "data": {
      "text/plain": [
       "array([ 2,  3,  8,  6,  1,  4,  7,  5,  9, 10, 21, 11, 20, 15, 22, 12, 23])"
      ]
     },
     "execution_count": 503,
     "metadata": {},
     "output_type": "execute_result"
    }
   ],
   "source": [
    "df = df[~((df['Ambientes'] < df['Dormitorios']) | (df['Ambientes'] < df['Banos']))]\n",
    "df = df[~((df['Ambientes'] >= 30 )) ]\n",
    "df['Ambientes'].unique()\n"
   ]
  },
  {
   "cell_type": "markdown",
   "metadata": {},
   "source": [
    "#### 9. SitioOrigen\n",
    "Se elimina la columna ya que no aporta información relevamte. 99% de los datos faltantes."
   ]
  },
  {
   "cell_type": "code",
   "execution_count": 504,
   "metadata": {},
   "outputs": [],
   "source": [
    "df.drop(columns=['SitioOrigen'], inplace=True)"
   ]
  },
  {
   "cell_type": "markdown",
   "metadata": {},
   "source": [
    "#### 10. Antiguedad\n",
    "\n",
    "Se paso a números. Se eliminaron las filas con valores faltantes. Se eliminaron los valores mayores a 2024 y menores a 0. Para los que parecían ser años se hizo 2024 menos el año para obtener el número de antiguedad. Se paso a columna categorica del 1 al 5 (del más nuevo al más antiguo)."
   ]
  },
  {
   "cell_type": "markdown",
   "metadata": {},
   "source": [
    "ACA NO SE SI FUE LA MEJOR DECISION ELIMINAR LOS VALORES FALTANTES!"
   ]
  },
  {
   "cell_type": "code",
   "execution_count": 505,
   "metadata": {},
   "outputs": [
    {
     "data": {
      "text/plain": [
       "np.int64(0)"
      ]
     },
     "execution_count": 505,
     "metadata": {},
     "output_type": "execute_result"
    }
   ],
   "source": [
    "df = df[df['Antiguedad'].notnull()]\n",
    "df['Antiguedad'] = df['Antiguedad'].replace(r'[^0-9.]', '', regex=True)\n",
    "df['Antiguedad'] = pd.to_numeric(df['Antiguedad'], errors='coerce').astype('Int64')\n",
    "df = df[~((df['Antiguedad'] > 2024) | (df['Antiguedad'] < 0))]\n",
    "df['Antiguedad'].isnull().sum()\n"
   ]
  },
  {
   "cell_type": "code",
   "execution_count": 506,
   "metadata": {},
   "outputs": [
    {
     "data": {
      "text/plain": [
       "array([  0,   7,  40,  50,   2,  20,   4,  35,  45,  15,   8,  62,  42,\n",
       "        10,   6,  12,   3,   9,  30,  17,  41, 110,  75,  25,   5,  13,\n",
       "        51,   1,  16,  22,  60,  18,  33,  11,  48,  49,  19,  47,  70,\n",
       "        26,  39,  28,  43,  37,  55,  61, 100,  27,  29,  65,  54,  80,\n",
       "        90,  32,  56,  14,  52,  85,  38,  63,  36,  59,  21,  24,  72,\n",
       "        77,  88,  44,  69,  23,  34,  66,  81,  71,  31,  46,  57,  78,\n",
       "        82,  53,  94,  58,  83,  68,  87, 122,  92,  86,  91,  95,  84,\n",
       "        97, 142,  64, 102, 104,  89, 141, 152,  67, 132,  98, 121, 150,\n",
       "       410, 101, 109,  76, 130, 105,  79,  96,  93, 151, 300,  99, 118,\n",
       "       112, 160, 200, 111, 212,  73, 131, 120, 405, 117,  74])"
      ]
     },
     "execution_count": 506,
     "metadata": {},
     "output_type": "execute_result"
    }
   ],
   "source": [
    "ano_actual = 2024\n",
    "es_ano = df['Antiguedad'] >= 1700\n",
    "df.loc[es_ano, 'Antiguedad'] = ano_actual - df.loc[es_ano, 'Antiguedad']\n",
    "df['Antiguedad'] = df['Antiguedad'].astype(int)\n",
    "df = df[df['Antiguedad'] <= 500]\n",
    "df['Antiguedad'].unique()"
   ]
  },
  {
   "cell_type": "code",
   "execution_count": 507,
   "metadata": {},
   "outputs": [],
   "source": [
    "def categorizar_antiguedad(antiguedad):\n",
    "    if antiguedad <= 5:\n",
    "        return 1  \n",
    "    elif 5 < antiguedad <= 15:\n",
    "        return 2  \n",
    "    elif 15 < antiguedad <= 40:\n",
    "        return 3  \n",
    "    elif 40 < antiguedad <= 80:\n",
    "        return 4  \n",
    "    else:\n",
    "        return 5  \n",
    "\n",
    "df['Antiguedad'] = df['Antiguedad'].apply(lambda x: categorizar_antiguedad(x) if pd.notnull(x) else None)"
   ]
  },
  {
   "cell_type": "markdown",
   "metadata": {},
   "source": [
    "#### 11. Cisterna\n",
    "Columna eliminada ya que la presencia de una cisterna probablemente tenga poco impacto directo en el precio de la propiedad y hay 58228 datos faltantes."
   ]
  },
  {
   "cell_type": "code",
   "execution_count": 508,
   "metadata": {},
   "outputs": [],
   "source": [
    "df.drop(columns=['Cisterna'], inplace=True)"
   ]
  },
  {
   "cell_type": "markdown",
   "metadata": {},
   "source": [
    "#### 12. Funcion que convierte a un valor apropiado las columnas que tienen como valores si, no ,1 ,0. "
   ]
  },
  {
   "cell_type": "code",
   "execution_count": 509,
   "metadata": {},
   "outputs": [
    {
     "name": "stderr",
     "output_type": "stream",
     "text": [
      "/var/folders/cd/3txhv68d0498qdntmvvxsxpc0000gn/T/ipykernel_66256/2191245977.py:2: FutureWarning: Downcasting behavior in `replace` is deprecated and will be removed in a future version. To retain the old behavior, explicitly call `result.infer_objects(copy=False)`. To opt-in to the future behavior, set `pd.set_option('future.no_silent_downcasting', True)`\n",
      "  df[x] = df[x].replace({\n"
     ]
    }
   ],
   "source": [
    "def pasar_binarios(x):\n",
    "    df[x] = df[x].replace({\n",
    "        '0.0': 0, 'No': 0, '0': 0, '   0': 0, \n",
    "        '1.0': 1, '1': 1, 'Sí': 1\n",
    "    })\n",
    "    df[x] = pd.to_numeric(df[x], errors='coerce')\n",
    "    df[x] = df[x].fillna(0)\n",
    "    df[x].value_counts()\n",
    "x = ['AreaJuegosInfantiles','Chimenea','Ascensor','SalonFiestas','Seguridad','Pileta','Cocheras','PistaJogging','EstacionamientoVisitas','Lobby','AreaParrillas','CanchaTennis','AreaCine', 'LocalesComerciales', 'Amoblado','Jacuzzi', 'AccesoInternet','BusinessCenter', 'Gimnasio', 'Laundry', 'Calefaccion', 'SalonDeUsosMul', 'AireAC', 'Recepcion', 'Estacionamiento']\n",
    "for i in x:\n",
    "    pasar_binarios(i)\n",
    "\n"
   ]
  },
  {
   "cell_type": "markdown",
   "metadata": {},
   "source": [
    "#### 13. SistContraIncendios\n",
    "Se elimina la columna ya que no tiene mucha info"
   ]
  },
  {
   "cell_type": "code",
   "execution_count": 510,
   "metadata": {},
   "outputs": [],
   "source": [
    "df.drop(columns=['SistContraIncendios'], inplace=True)"
   ]
  },
  {
   "cell_type": "markdown",
   "metadata": {},
   "source": [
    "#### 14. ITE_TIPO_PROD\n",
    "Se paso a valores 0, 1 y 2."
   ]
  },
  {
   "cell_type": "code",
   "execution_count": 511,
   "metadata": {},
   "outputs": [],
   "source": [
    "df['ITE_TIPO_PROD'] = df['ITE_TIPO_PROD'].map({'N': 1, 'U': 2, 'S': 0})\n"
   ]
  },
  {
   "cell_type": "markdown",
   "metadata": {},
   "source": [
    "#### 15. Year\n",
    "Se elimin la columna porque solo hay años 2022 y 2021\n"
   ]
  },
  {
   "cell_type": "code",
   "execution_count": 512,
   "metadata": {},
   "outputs": [],
   "source": [
    "df.drop(columns=['year'], inplace=True)\n"
   ]
  },
  {
   "cell_type": "code",
   "execution_count": 513,
   "metadata": {},
   "outputs": [],
   "source": [
    "# if not pd.api.types.is_numeric_dtype(df['year']):\n",
    "#     # Intentar convertir a numérico\n",
    "#     df['year'] = pd.to_numeric(df['year'], errors='coerce')\n",
    "\n",
    "\n",
    "# # Buscar valores NaN\n",
    "# nulos = df['year'].isnull().sum()\n",
    "# if nulos > 0:\n",
    "#     print(f\"Hay {nulos} valores faltantes en la columna 'year'.\")\n",
    "#     print(df[df['year'].isnull()])\n",
    "\n",
    "# no_enteros = df[~(df['year'] == df['year'].astype(int))]\n",
    "\n",
    "# df = df.dropna(subset=['year'])\n",
    "\n",
    "# # Comprobar valores únicos y resumen estadístico\n",
    "# print(df['year'].describe())\n",
    "# print(df['year'].unique())\n"
   ]
  },
  {
   "cell_type": "code",
   "execution_count": 514,
   "metadata": {},
   "outputs": [],
   "source": [
    "# # Verificar si la columna es numérica\n",
    "# if not pd.api.types.is_numeric_dtype(df['year']):\n",
    "#     # Intentar convertir a numérico\n",
    "#     df['year'] = pd.to_numeric(df['year'], errors='coerce')\n",
    "\n",
    "\n",
    "# # Buscar valores NaN\n",
    "# nulos = df['year'].isnull().sum()\n",
    "# if nulos > 0:\n",
    "#     print(f\"Hay {nulos} valores faltantes en la columna 'year'.\")\n",
    "#     print(df[df['year'].isnull()])\n",
    "\n",
    "# no_enteros = df[~(df['year'] == df['year'].astype(int))]\n",
    "\n",
    "# df = df.dropna(subset=['year'])\n",
    "\n",
    "# # Comprobar valores únicos y resumen estadístico\n",
    "# print(df['year'].describe())\n",
    "# print(df['year'].unique())\n"
   ]
  },
  {
   "cell_type": "markdown",
   "metadata": {},
   "source": [
    "#### 16. ITE_ADD_STATE_NAME\n",
    "One hot para las 4 zonas.\n",
    "Capital Federal        143041\n",
    "Bs.As. G.B.A. Norte     43576\n",
    "Bs.As. G.B.A. Oeste     30029\n",
    "Bs.As. G.B.A. Sur       23885\n"
   ]
  },
  {
   "cell_type": "code",
   "execution_count": 515,
   "metadata": {},
   "outputs": [],
   "source": [
    "df = pd.get_dummies(df, columns=['ITE_ADD_STATE_NAME'], prefix='state')"
   ]
  },
  {
   "cell_type": "markdown",
   "metadata": {},
   "source": [
    "#### 17. ITE_ADD_CITY_NAME\n",
    "Se agruparon las ciudades con menos de 1000 propiedades en la categoria 'otros' y se hizo one-hot."
   ]
  },
  {
   "cell_type": "code",
   "execution_count": 516,
   "metadata": {},
   "outputs": [],
   "source": [
    "threshold = 1000\n",
    "city_counts = df['ITE_ADD_CITY_NAME'].value_counts()\n",
    "df['ITE_ADD_CITY_NAME'] = df['ITE_ADD_CITY_NAME'].apply(\n",
    "    lambda x: x if city_counts[x] >= threshold else 'Otros'\n",
    ")\n",
    "df = pd.get_dummies(df, columns=['ITE_ADD_CITY_NAME'], prefix='city')\n"
   ]
  },
  {
   "cell_type": "markdown",
   "metadata": {},
   "source": [
    "#### 18. ITE_ADD_NEIGHBORHOOD_NAME"
   ]
  },
  {
   "cell_type": "code",
   "execution_count": 517,
   "metadata": {},
   "outputs": [
    {
     "data": {
      "text/html": [
       "<div>\n",
       "<style scoped>\n",
       "    .dataframe tbody tr th:only-of-type {\n",
       "        vertical-align: middle;\n",
       "    }\n",
       "\n",
       "    .dataframe tbody tr th {\n",
       "        vertical-align: top;\n",
       "    }\n",
       "\n",
       "    .dataframe thead th {\n",
       "        text-align: right;\n",
       "    }\n",
       "</style>\n",
       "<table border=\"1\" class=\"dataframe\">\n",
       "  <thead>\n",
       "    <tr style=\"text-align: right;\">\n",
       "      <th></th>\n",
       "      <th>STotalM2</th>\n",
       "      <th>SConstrM2</th>\n",
       "      <th>Dormitorios</th>\n",
       "      <th>Banos</th>\n",
       "      <th>Ambientes</th>\n",
       "      <th>Amoblado</th>\n",
       "      <th>Antiguedad</th>\n",
       "      <th>AccesoInternet</th>\n",
       "      <th>BusinessCenter</th>\n",
       "      <th>Gimnasio</th>\n",
       "      <th>...</th>\n",
       "      <th>ITE_ADD_NEIGHBORHOOD_NAME_Almagro</th>\n",
       "      <th>ITE_ADD_NEIGHBORHOOD_NAME_Barrio Norte</th>\n",
       "      <th>ITE_ADD_NEIGHBORHOOD_NAME_Belgrano</th>\n",
       "      <th>ITE_ADD_NEIGHBORHOOD_NAME_Caballito</th>\n",
       "      <th>ITE_ADD_NEIGHBORHOOD_NAME_Otros</th>\n",
       "      <th>ITE_ADD_NEIGHBORHOOD_NAME_Palermo</th>\n",
       "      <th>ITE_ADD_NEIGHBORHOOD_NAME_Puerto Madero</th>\n",
       "      <th>ITE_ADD_NEIGHBORHOOD_NAME_Ramos Mejía</th>\n",
       "      <th>ITE_ADD_NEIGHBORHOOD_NAME_Recoleta</th>\n",
       "      <th>ITE_ADD_NEIGHBORHOOD_NAME_Villa Urquiza</th>\n",
       "    </tr>\n",
       "  </thead>\n",
       "  <tbody>\n",
       "    <tr>\n",
       "      <th>0</th>\n",
       "      <td>39.0</td>\n",
       "      <td>36.0</td>\n",
       "      <td>1</td>\n",
       "      <td>1</td>\n",
       "      <td>2</td>\n",
       "      <td>0.0</td>\n",
       "      <td>1</td>\n",
       "      <td>0.0</td>\n",
       "      <td>0.0</td>\n",
       "      <td>0.0</td>\n",
       "      <td>...</td>\n",
       "      <td>False</td>\n",
       "      <td>False</td>\n",
       "      <td>False</td>\n",
       "      <td>False</td>\n",
       "      <td>True</td>\n",
       "      <td>False</td>\n",
       "      <td>False</td>\n",
       "      <td>False</td>\n",
       "      <td>False</td>\n",
       "      <td>False</td>\n",
       "    </tr>\n",
       "    <tr>\n",
       "      <th>1</th>\n",
       "      <td>47.0</td>\n",
       "      <td>40.0</td>\n",
       "      <td>1</td>\n",
       "      <td>1</td>\n",
       "      <td>2</td>\n",
       "      <td>0.0</td>\n",
       "      <td>2</td>\n",
       "      <td>0.0</td>\n",
       "      <td>0.0</td>\n",
       "      <td>0.0</td>\n",
       "      <td>...</td>\n",
       "      <td>False</td>\n",
       "      <td>False</td>\n",
       "      <td>False</td>\n",
       "      <td>False</td>\n",
       "      <td>True</td>\n",
       "      <td>False</td>\n",
       "      <td>False</td>\n",
       "      <td>False</td>\n",
       "      <td>False</td>\n",
       "      <td>False</td>\n",
       "    </tr>\n",
       "    <tr>\n",
       "      <th>3</th>\n",
       "      <td>436.0</td>\n",
       "      <td>436.0</td>\n",
       "      <td>2</td>\n",
       "      <td>3</td>\n",
       "      <td>8</td>\n",
       "      <td>0.0</td>\n",
       "      <td>4</td>\n",
       "      <td>0.0</td>\n",
       "      <td>0.0</td>\n",
       "      <td>0.0</td>\n",
       "      <td>...</td>\n",
       "      <td>False</td>\n",
       "      <td>False</td>\n",
       "      <td>False</td>\n",
       "      <td>False</td>\n",
       "      <td>False</td>\n",
       "      <td>False</td>\n",
       "      <td>False</td>\n",
       "      <td>False</td>\n",
       "      <td>True</td>\n",
       "      <td>False</td>\n",
       "    </tr>\n",
       "    <tr>\n",
       "      <th>4</th>\n",
       "      <td>300.0</td>\n",
       "      <td>300.0</td>\n",
       "      <td>2</td>\n",
       "      <td>4</td>\n",
       "      <td>6</td>\n",
       "      <td>0.0</td>\n",
       "      <td>1</td>\n",
       "      <td>0.0</td>\n",
       "      <td>0.0</td>\n",
       "      <td>0.0</td>\n",
       "      <td>...</td>\n",
       "      <td>False</td>\n",
       "      <td>False</td>\n",
       "      <td>False</td>\n",
       "      <td>False</td>\n",
       "      <td>True</td>\n",
       "      <td>False</td>\n",
       "      <td>False</td>\n",
       "      <td>False</td>\n",
       "      <td>False</td>\n",
       "      <td>False</td>\n",
       "    </tr>\n",
       "    <tr>\n",
       "      <th>5</th>\n",
       "      <td>36.0</td>\n",
       "      <td>32.0</td>\n",
       "      <td>0</td>\n",
       "      <td>1</td>\n",
       "      <td>1</td>\n",
       "      <td>0.0</td>\n",
       "      <td>1</td>\n",
       "      <td>0.0</td>\n",
       "      <td>0.0</td>\n",
       "      <td>0.0</td>\n",
       "      <td>...</td>\n",
       "      <td>False</td>\n",
       "      <td>False</td>\n",
       "      <td>False</td>\n",
       "      <td>False</td>\n",
       "      <td>True</td>\n",
       "      <td>False</td>\n",
       "      <td>False</td>\n",
       "      <td>False</td>\n",
       "      <td>False</td>\n",
       "      <td>False</td>\n",
       "    </tr>\n",
       "  </tbody>\n",
       "</table>\n",
       "<p>5 rows × 74 columns</p>\n",
       "</div>"
      ],
      "text/plain": [
       "   STotalM2  SConstrM2  Dormitorios  Banos  Ambientes  Amoblado  Antiguedad  \\\n",
       "0      39.0       36.0            1      1          2       0.0           1   \n",
       "1      47.0       40.0            1      1          2       0.0           2   \n",
       "3     436.0      436.0            2      3          8       0.0           4   \n",
       "4     300.0      300.0            2      4          6       0.0           1   \n",
       "5      36.0       32.0            0      1          1       0.0           1   \n",
       "\n",
       "   AccesoInternet  BusinessCenter  Gimnasio  ...  \\\n",
       "0             0.0             0.0       0.0  ...   \n",
       "1             0.0             0.0       0.0  ...   \n",
       "3             0.0             0.0       0.0  ...   \n",
       "4             0.0             0.0       0.0  ...   \n",
       "5             0.0             0.0       0.0  ...   \n",
       "\n",
       "   ITE_ADD_NEIGHBORHOOD_NAME_Almagro  ITE_ADD_NEIGHBORHOOD_NAME_Barrio Norte  \\\n",
       "0                              False                                   False   \n",
       "1                              False                                   False   \n",
       "3                              False                                   False   \n",
       "4                              False                                   False   \n",
       "5                              False                                   False   \n",
       "\n",
       "   ITE_ADD_NEIGHBORHOOD_NAME_Belgrano  ITE_ADD_NEIGHBORHOOD_NAME_Caballito  \\\n",
       "0                               False                                False   \n",
       "1                               False                                False   \n",
       "3                               False                                False   \n",
       "4                               False                                False   \n",
       "5                               False                                False   \n",
       "\n",
       "   ITE_ADD_NEIGHBORHOOD_NAME_Otros  ITE_ADD_NEIGHBORHOOD_NAME_Palermo  \\\n",
       "0                             True                              False   \n",
       "1                             True                              False   \n",
       "3                            False                              False   \n",
       "4                             True                              False   \n",
       "5                             True                              False   \n",
       "\n",
       "   ITE_ADD_NEIGHBORHOOD_NAME_Puerto Madero  \\\n",
       "0                                    False   \n",
       "1                                    False   \n",
       "3                                    False   \n",
       "4                                    False   \n",
       "5                                    False   \n",
       "\n",
       "   ITE_ADD_NEIGHBORHOOD_NAME_Ramos Mejía  ITE_ADD_NEIGHBORHOOD_NAME_Recoleta  \\\n",
       "0                                  False                               False   \n",
       "1                                  False                               False   \n",
       "3                                  False                                True   \n",
       "4                                  False                               False   \n",
       "5                                  False                               False   \n",
       "\n",
       "   ITE_ADD_NEIGHBORHOOD_NAME_Villa Urquiza  \n",
       "0                                    False  \n",
       "1                                    False  \n",
       "3                                    False  \n",
       "4                                    False  \n",
       "5                                    False  \n",
       "\n",
       "[5 rows x 74 columns]"
      ]
     },
     "execution_count": 517,
     "metadata": {},
     "output_type": "execute_result"
    }
   ],
   "source": [
    "df = df.dropna(subset=['ITE_ADD_NEIGHBORHOOD_NAME'])\n",
    "threshold = 5000\n",
    "neighbourhood_counts = df['ITE_ADD_NEIGHBORHOOD_NAME'].value_counts()\n",
    "df['ITE_ADD_NEIGHBORHOOD_NAME'] = df['ITE_ADD_NEIGHBORHOOD_NAME'].apply(\n",
    "    lambda x: x if neighbourhood_counts[x] >= threshold else 'Otros'\n",
    ")\n",
    "df = pd.get_dummies(df, columns=['ITE_ADD_NEIGHBORHOOD_NAME'], prefix='ITE_ADD_NEIGHBORHOOD_NAME')\n",
    "df.head()"
   ]
  },
  {
   "cell_type": "code",
   "execution_count": 518,
   "metadata": {},
   "outputs": [],
   "source": [
    "\n",
    "# \"\"\"A discutir, como hay muchos barrios usar one hot es inviable, podemos usar Target Encoding o Label Encoding.\n",
    "# Si usamos label encoding habria que usar Random Forest o XG-boost como modelo, ya que no le importa el tamano del valor.\n",
    "# Otra idea, mas complicada. La idea es agrupar barrios similares según ciertas características relevantes, como precio promedio,\n",
    "#  densidad de viviendas, características geográficas, etc. Luego, usar estos grupos como una nueva característica.\n",
    "# De esta manera podemos reducir la cantidad de barrios que son similares, como San Isidro Catedral y Barrancas de San Isidro. Y\n",
    "# quizar poder hacer un one hot encoding y que no nos quede algo enorme.  \n",
    "#  \"\"\"\n",
    "# # Crear un DataFrame con información por barrio\n",
    "# barrio_stats = df.groupby('ITE_ADD_NEIGHBORHOOD_NAME').agg(\n",
    "#     Precio_Promedio=('precio_pesos_constantes', 'mean'),\n",
    "#     Superficie_Promedio=('STotalM2', 'mean')\n",
    "# ).reset_index()\n",
    "\n",
    "\n",
    "# scaler = StandardScaler()\n",
    "# barrio_stats_scaled = scaler.fit_transform(barrio_stats[['Precio_Promedio', 'Superficie_Promedio']])\n",
    "\n",
    "# # Determinar el número de clusters\n",
    "# kmeans = KMeans(n_clusters=5, random_state=42)  # Cambia el número de clusters según tus datos\n",
    "# barrio_stats['Cluster'] = kmeans.fit_predict(barrio_stats_scaled)\n",
    "\n",
    "# # Mapear el cluster al dataset original\n",
    "# df = df.merge(barrio_stats[['ITE_ADD_NEIGHBORHOOD_NAME', 'Cluster']], \n",
    "#               on='ITE_ADD_NEIGHBORHOOD_NAME', \n",
    "#               how='left')\n",
    "# print(barrio_stats.head(10))"
   ]
  },
  {
   "cell_type": "markdown",
   "metadata": {},
   "source": [
    "#### 19. Precios\n",
    "\n",
    "Hay que chequear esto, ni lo corri. Hay que definir que hacer con los precios que no estan y que hacer con los precios que no tienen sentido, es decir que estan fuera del umbral"
   ]
  },
  {
   "cell_type": "code",
   "execution_count": 519,
   "metadata": {},
   "outputs": [],
   "source": [
    "# Manejo de Outliers\n",
    "lower_bound = 3173.03  # Percentil 1%\n",
    "upper_bound = 2084209.05  # Percentil 99%\n",
    "\n",
    "df = df[(df['precio_pesos_constantes'] >= lower_bound) & \n",
    "        (df['precio_pesos_constantes'] <= upper_bound)]\n"
   ]
  },
  {
   "cell_type": "code",
   "execution_count": 520,
   "metadata": {},
   "outputs": [
    {
     "name": "stdout",
     "output_type": "stream",
     "text": [
      "count    2.244810e+05\n",
      "mean     3.107539e+04\n",
      "std      1.016412e+05\n",
      "min      3.173039e+03\n",
      "25%      6.732395e+03\n",
      "50%      9.426599e+03\n",
      "75%      1.941000e+04\n",
      "max      2.081862e+06\n",
      "Name: precio_pesos_constantes, dtype: float64\n"
     ]
    }
   ],
   "source": [
    "print(df['precio_pesos_constantes'].describe())\n"
   ]
  },
  {
   "cell_type": "markdown",
   "metadata": {},
   "source": [
    "#### 20. Agrego más features"
   ]
  },
  {
   "cell_type": "markdown",
   "metadata": {},
   "source": [
    "Más features relacionadas con los M2"
   ]
  },
  {
   "cell_type": "code",
   "execution_count": 521,
   "metadata": {},
   "outputs": [],
   "source": [
    "df = df[df['SConstrM2'] <= df['STotalM2']]\n",
    "\n",
    "df['SNoConstrM2'] = df['STotalM2'] - df['SConstrM2']\n",
    "df['SConstrRatio'] = df['SConstrM2'] / df['STotalM2']\n",
    "df['SNoConstrRatio'] = 1 - df['SConstrRatio']\n"
   ]
  },
  {
   "cell_type": "markdown",
   "metadata": {},
   "source": [
    "Columna que reune todos los servicios"
   ]
  },
  {
   "cell_type": "code",
   "execution_count": 522,
   "metadata": {},
   "outputs": [],
   "source": [
    "x = ['AreaJuegosInfantiles', 'Chimenea', 'Ascensor', 'SalonFiestas', 'Seguridad', \n",
    "     'Pileta', 'Cocheras', 'PistaJogging', 'EstacionamientoVisitas', 'Lobby', \n",
    "     'AreaParrillas', 'CanchaTennis', 'AreaCine', 'LocalesComerciales', 'Amoblado', \n",
    "     'Jacuzzi', 'AccesoInternet', 'BusinessCenter', 'Gimnasio', 'Laundry', \n",
    "     'Calefaccion', 'SalonDeUsosMul', 'AireAC', 'Recepcion', 'Estacionamiento']\n",
    "\n",
    "df['TieneServicios'] = df[x].any(axis=1).astype(int)\n"
   ]
  },
  {
   "cell_type": "code",
   "execution_count": 523,
   "metadata": {},
   "outputs": [
    {
     "data": {
      "text/plain": [
       "TieneServicios\n",
       "1    147928\n",
       "0     70707\n",
       "Name: count, dtype: int64"
      ]
     },
     "execution_count": 523,
     "metadata": {},
     "output_type": "execute_result"
    }
   ],
   "source": [
    "df['TieneServicios'].value_counts()"
   ]
  },
  {
   "cell_type": "markdown",
   "metadata": {},
   "source": [
    "## Una vez finalizado el Preprocesamiento lo paso a CSV"
   ]
  },
  {
   "cell_type": "code",
   "execution_count": 524,
   "metadata": {},
   "outputs": [],
   "source": [
    "df.to_csv('/Users/victoria/Desktop/alquiler_procesado.csv', index=False)"
   ]
  }
 ],
 "metadata": {
  "kernelspec": {
   "display_name": ".venv",
   "language": "python",
   "name": "python3"
  },
  "language_info": {
   "codemirror_mode": {
    "name": "ipython",
    "version": 3
   },
   "file_extension": ".py",
   "mimetype": "text/x-python",
   "name": "python",
   "nbconvert_exporter": "python",
   "pygments_lexer": "ipython3",
   "version": "3.11.6"
  }
 },
 "nbformat": 4,
 "nbformat_minor": 2
}
