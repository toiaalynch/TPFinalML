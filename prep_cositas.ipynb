{
 "cells": [
  {
   "cell_type": "code",
   "execution_count": null,
   "metadata": {},
   "outputs": [],
   "source": [
    "df['%m2-cubiertos'] = (df['SConstrM2'] / df['STotalM2']) * 100"
   ]
  },
  {
   "cell_type": "code",
   "execution_count": null,
   "metadata": {},
   "outputs": [],
   "source": [
    "#columnas que no importan \n",
    "df.drop(columns=['LONGITUDE'])\n",
    "df.drop(columns=['LATITUDE'])\n",
    "df.drop(columns=['id_grid'])\n",
    "df.drop(columns =['ITE_ADD_STATE_NAME'])\n"
   ]
  }
 ],
 "metadata": {
  "language_info": {
   "name": "python"
  },
  "orig_nbformat": 4
 },
 "nbformat": 4,
 "nbformat_minor": 2
}
