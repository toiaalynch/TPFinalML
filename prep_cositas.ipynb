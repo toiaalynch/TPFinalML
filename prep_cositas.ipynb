{
 "cells": [
  {
   "cell_type": "code",
   "execution_count": null,
   "metadata": {},
   "outputs": [],
   "source": [
    "df['%m2-cubiertos'] = (df['SConstrM2'] / df['STotalM2']) * 100"
   ]
  },
  {
   "cell_type": "code",
   "execution_count": null,
   "metadata": {},
   "outputs": [],
   "source": [
    "#columnas que no importan \n",
    "df.drop(columns=['LONGITUDE'])\n",
    "df.drop(columns=['LATITUDE'])\n",
    "df.drop(columns=['id_grid'])\n",
    "df.drop(columns =['ITE_ADD_STATE_NAME'])\n"
   ]
  },
  {
   "cell_type": "code",
   "execution_count": null,
   "metadata": {},
   "outputs": [],
   "source": [
    "df['AreaJuegosInfantiles'] = df['AreaJuegosInfantiles'].replace({\n",
    "    '0.0': 0, 'No': 0, '0': 0, '   0': 0, \n",
    "    '1.0': 1, '1': 1, 'Sí': 1\n",
    "})\n",
    "df['AreaJuegosInfantiles'] = pd.to_numeric(df['AreaJuegosInfantiles'], errors='coerce')\n",
    "df['AreaJuegosInfantiles'] = df['AreaJuegosInfantiles'].fillna(0)\n",
    "df['AreaJuegosInfantiles'].value_counts()"
   ]
  }
 ],
 "metadata": {
  "language_info": {
   "name": "python"
  },
  "orig_nbformat": 4
 },
 "nbformat": 4,
 "nbformat_minor": 2
}
